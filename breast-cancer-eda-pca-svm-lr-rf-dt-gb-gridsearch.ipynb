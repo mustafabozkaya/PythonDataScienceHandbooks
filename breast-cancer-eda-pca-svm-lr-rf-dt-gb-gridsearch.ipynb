{
  "cells": [
    {
      "cell_type": "markdown",
      "metadata": {
        "id": "view-in-github",
        "colab_type": "text"
      },
      "source": [
        "<a href=\"https://colab.research.google.com/github/mustafabozkaya/PythonDataScienceHandbooks/blob/main/breast-cancer-eda-pca-svm-lr-rf-dt-gb-gridsearch.ipynb\" target=\"_parent\"><img src=\"https://colab.research.google.com/assets/colab-badge.svg\" alt=\"Open In Colab\"/></a>"
      ]
    },
    {
      "cell_type": "markdown",
      "id": "338449b4",
      "metadata": {
        "papermill": {
          "duration": 0.018634,
          "end_time": "2022-06-02T21:53:43.229180",
          "exception": false,
          "start_time": "2022-06-02T21:53:43.210546",
          "status": "completed"
        },
        "tags": [],
        "id": "338449b4"
      },
      "source": [
        "# Breast Cancer Eda  PCA, SVM,LR,RF,DTree,GaradientBost,GridSearchCV Param Tuning - 99% Accuracy \n",
        "\n",
        "**Breast Cancer Data Analysis**\n",
        "\n",
        "\n",
        "![](https://www.sysmex-europe.com/fileadmin/_processed_/a/9/csm_LifeScience_StageImage_BreastCancer_1500x600-01_2498abd1e0.jpg)\n",
        "\n",
        "In this tutorial, based on the data we are going to find out if the cancer is benign or malignant. We would use python libraries such as Numpy, Pandas and Plotly. We would use classification techniques to predict the values (1 or 0) on our dataset. \n",
        "\n",
        "**Source** : https://www.kaggle.com/uciml/breast-cancer-wisconsin-data\n",
        "\n",
        "Let's start off by installing and import the required libraries into our code"
      ]
    },
    {
      "cell_type": "code",
      "execution_count": 48,
      "id": "88a9e207",
      "metadata": {
        "execution": {
          "iopub.execute_input": "2022-06-02T21:53:43.264676Z",
          "iopub.status.busy": "2022-06-02T21:53:43.263935Z",
          "iopub.status.idle": "2022-06-02T21:53:46.035756Z",
          "shell.execute_reply": "2022-06-02T21:53:46.034564Z"
        },
        "papermill": {
          "duration": 2.792422,
          "end_time": "2022-06-02T21:53:46.038348",
          "exception": false,
          "start_time": "2022-06-02T21:53:43.245926",
          "status": "completed"
        },
        "tags": [],
        "id": "88a9e207"
      },
      "outputs": [],
      "source": [
        "import numpy as np\n",
        "import pandas as pd \n",
        "import plotly.express as px\n",
        "import matplotlib.pyplot as plt\n",
        "import matplotlib\n",
        "import seaborn as sns\n",
        "import missingno as msn\n",
        "import sklearn.datasets as sdata\n",
        "%matplotlib inline"
      ]
    },
    {
      "cell_type": "code",
      "execution_count": 49,
      "id": "079fc914",
      "metadata": {
        "execution": {
          "iopub.execute_input": "2022-06-02T21:53:46.077667Z",
          "iopub.status.busy": "2022-06-02T21:53:46.076531Z",
          "iopub.status.idle": "2022-06-02T21:53:46.082194Z",
          "shell.execute_reply": "2022-06-02T21:53:46.081470Z"
        },
        "papermill": {
          "duration": 0.026933,
          "end_time": "2022-06-02T21:53:46.084291",
          "exception": false,
          "start_time": "2022-06-02T21:53:46.057358",
          "status": "completed"
        },
        "tags": [],
        "id": "079fc914"
      },
      "outputs": [],
      "source": [
        "plt.rcParams['font.size'] = 14\n",
        "plt.rcParams['figure.figsize'] = (18, 12)"
      ]
    },
    {
      "cell_type": "markdown",
      "id": "8af41928",
      "metadata": {
        "papermill": {
          "duration": 0.01873,
          "end_time": "2022-06-02T21:53:46.123331",
          "exception": false,
          "start_time": "2022-06-02T21:53:46.104601",
          "status": "completed"
        },
        "tags": [],
        "id": "8af41928"
      },
      "source": [
        "`sklearn` provides this dataset for us to work with so we are going to be using the same library for importing our dataset and loading into a dataframe with the help of `Pandas` library"
      ]
    },
    {
      "cell_type": "markdown",
      "id": "8257ed65",
      "metadata": {
        "papermill": {
          "duration": 0.018335,
          "end_time": "2022-06-02T21:53:46.158702",
          "exception": false,
          "start_time": "2022-06-02T21:53:46.140367",
          "status": "completed"
        },
        "tags": [],
        "id": "8257ed65"
      },
      "source": [
        ""
      ]
    },
    {
      "cell_type": "code",
      "execution_count": 50,
      "id": "20e49767",
      "metadata": {
        "execution": {
          "iopub.execute_input": "2022-06-02T21:53:46.196864Z",
          "iopub.status.busy": "2022-06-02T21:53:46.195383Z",
          "iopub.status.idle": "2022-06-02T21:53:46.202519Z",
          "shell.execute_reply": "2022-06-02T21:53:46.201546Z"
        },
        "papermill": {
          "duration": 0.027037,
          "end_time": "2022-06-02T21:53:46.204919",
          "exception": false,
          "start_time": "2022-06-02T21:53:46.177882",
          "status": "completed"
        },
        "tags": [],
        "id": "20e49767",
        "outputId": "a4d20fd1-0088-41b0-e704-62b9af48d94f",
        "colab": {
          "base_uri": "https://localhost:8080/"
        }
      },
      "outputs": [
        {
          "output_type": "stream",
          "name": "stdout",
          "text": [
            ".config\n",
            "sample_data\n"
          ]
        }
      ],
      "source": [
        "import os \n",
        "\n",
        "try:\n",
        "  for file in os.listdir(\"../input/\"):\n",
        "    print(file)\n",
        "except:\n",
        "  for file in os.listdir(\"./\"):\n",
        "    print(file)"
      ]
    },
    {
      "cell_type": "code",
      "execution_count": 51,
      "id": "04e1ed1d",
      "metadata": {
        "execution": {
          "iopub.execute_input": "2022-06-02T21:53:46.244105Z",
          "iopub.status.busy": "2022-06-02T21:53:46.243181Z",
          "iopub.status.idle": "2022-06-02T21:53:46.271671Z",
          "shell.execute_reply": "2022-06-02T21:53:46.270577Z"
        },
        "papermill": {
          "duration": 0.052764,
          "end_time": "2022-06-02T21:53:46.274617",
          "exception": false,
          "start_time": "2022-06-02T21:53:46.221853",
          "status": "completed"
        },
        "tags": [],
        "id": "04e1ed1d"
      },
      "outputs": [],
      "source": [
        "try:\n",
        "  Data = pd.read_csv(\"../input/breast-cancer-wisconsin-data/data.csv\")\n",
        "  Df=Data.copy()\n",
        "except:\n",
        "  Data = sdata.load_breast_cancer(return_X_y=False)\n",
        "  col=list(Data.feature_names)+[\"target\"]\n",
        "  Data=np.concatenate((Data.data,Data.target.reshape(-1,1)),axis=1)\n",
        "  Df=pd.DataFrame(Data,columns=col)"
      ]
    },
    {
      "cell_type": "code",
      "execution_count": 52,
      "id": "b6aa4aa1",
      "metadata": {
        "execution": {
          "iopub.execute_input": "2022-06-02T21:53:46.312589Z",
          "iopub.status.busy": "2022-06-02T21:53:46.311654Z",
          "iopub.status.idle": "2022-06-02T21:53:46.361965Z",
          "shell.execute_reply": "2022-06-02T21:53:46.360941Z"
        },
        "papermill": {
          "duration": 0.070713,
          "end_time": "2022-06-02T21:53:46.364277",
          "exception": false,
          "start_time": "2022-06-02T21:53:46.293564",
          "status": "completed"
        },
        "tags": [],
        "id": "b6aa4aa1",
        "outputId": "2a00cc51-b621-484f-d60c-6e2c86b3928a",
        "colab": {
          "base_uri": "https://localhost:8080/",
          "height": 209
        }
      },
      "outputs": [
        {
          "output_type": "execute_result",
          "data": {
            "text/plain": [
              "   mean radius  mean texture  mean perimeter  mean area  mean smoothness  \\\n",
              "0        17.99         10.38           122.8     1001.0           0.1184   \n",
              "\n",
              "   mean compactness  mean concavity  mean concave points  mean symmetry  \\\n",
              "0            0.2776          0.3001               0.1471         0.2419   \n",
              "\n",
              "   mean fractal dimension  ...  worst texture  worst perimeter  worst area  \\\n",
              "0                 0.07871  ...          17.33            184.6      2019.0   \n",
              "\n",
              "   worst smoothness  worst compactness  worst concavity  worst concave points  \\\n",
              "0            0.1622             0.6656           0.7119                0.2654   \n",
              "\n",
              "   worst symmetry  worst fractal dimension  target  \n",
              "0          0.4601                   0.1189     0.0  \n",
              "\n",
              "[1 rows x 31 columns]"
            ],
            "text/html": [
              "\n",
              "  <div id=\"df-b92526a1-a4b8-4a87-9b62-d0c17c95e772\">\n",
              "    <div class=\"colab-df-container\">\n",
              "      <div>\n",
              "<style scoped>\n",
              "    .dataframe tbody tr th:only-of-type {\n",
              "        vertical-align: middle;\n",
              "    }\n",
              "\n",
              "    .dataframe tbody tr th {\n",
              "        vertical-align: top;\n",
              "    }\n",
              "\n",
              "    .dataframe thead th {\n",
              "        text-align: right;\n",
              "    }\n",
              "</style>\n",
              "<table border=\"1\" class=\"dataframe\">\n",
              "  <thead>\n",
              "    <tr style=\"text-align: right;\">\n",
              "      <th></th>\n",
              "      <th>mean radius</th>\n",
              "      <th>mean texture</th>\n",
              "      <th>mean perimeter</th>\n",
              "      <th>mean area</th>\n",
              "      <th>mean smoothness</th>\n",
              "      <th>mean compactness</th>\n",
              "      <th>mean concavity</th>\n",
              "      <th>mean concave points</th>\n",
              "      <th>mean symmetry</th>\n",
              "      <th>mean fractal dimension</th>\n",
              "      <th>...</th>\n",
              "      <th>worst texture</th>\n",
              "      <th>worst perimeter</th>\n",
              "      <th>worst area</th>\n",
              "      <th>worst smoothness</th>\n",
              "      <th>worst compactness</th>\n",
              "      <th>worst concavity</th>\n",
              "      <th>worst concave points</th>\n",
              "      <th>worst symmetry</th>\n",
              "      <th>worst fractal dimension</th>\n",
              "      <th>target</th>\n",
              "    </tr>\n",
              "  </thead>\n",
              "  <tbody>\n",
              "    <tr>\n",
              "      <th>0</th>\n",
              "      <td>17.99</td>\n",
              "      <td>10.38</td>\n",
              "      <td>122.8</td>\n",
              "      <td>1001.0</td>\n",
              "      <td>0.1184</td>\n",
              "      <td>0.2776</td>\n",
              "      <td>0.3001</td>\n",
              "      <td>0.1471</td>\n",
              "      <td>0.2419</td>\n",
              "      <td>0.07871</td>\n",
              "      <td>...</td>\n",
              "      <td>17.33</td>\n",
              "      <td>184.6</td>\n",
              "      <td>2019.0</td>\n",
              "      <td>0.1622</td>\n",
              "      <td>0.6656</td>\n",
              "      <td>0.7119</td>\n",
              "      <td>0.2654</td>\n",
              "      <td>0.4601</td>\n",
              "      <td>0.1189</td>\n",
              "      <td>0.0</td>\n",
              "    </tr>\n",
              "  </tbody>\n",
              "</table>\n",
              "<p>1 rows × 31 columns</p>\n",
              "</div>\n",
              "      <button class=\"colab-df-convert\" onclick=\"convertToInteractive('df-b92526a1-a4b8-4a87-9b62-d0c17c95e772')\"\n",
              "              title=\"Convert this dataframe to an interactive table.\"\n",
              "              style=\"display:none;\">\n",
              "        \n",
              "  <svg xmlns=\"http://www.w3.org/2000/svg\" height=\"24px\"viewBox=\"0 0 24 24\"\n",
              "       width=\"24px\">\n",
              "    <path d=\"M0 0h24v24H0V0z\" fill=\"none\"/>\n",
              "    <path d=\"M18.56 5.44l.94 2.06.94-2.06 2.06-.94-2.06-.94-.94-2.06-.94 2.06-2.06.94zm-11 1L8.5 8.5l.94-2.06 2.06-.94-2.06-.94L8.5 2.5l-.94 2.06-2.06.94zm10 10l.94 2.06.94-2.06 2.06-.94-2.06-.94-.94-2.06-.94 2.06-2.06.94z\"/><path d=\"M17.41 7.96l-1.37-1.37c-.4-.4-.92-.59-1.43-.59-.52 0-1.04.2-1.43.59L10.3 9.45l-7.72 7.72c-.78.78-.78 2.05 0 2.83L4 21.41c.39.39.9.59 1.41.59.51 0 1.02-.2 1.41-.59l7.78-7.78 2.81-2.81c.8-.78.8-2.07 0-2.86zM5.41 20L4 18.59l7.72-7.72 1.47 1.35L5.41 20z\"/>\n",
              "  </svg>\n",
              "      </button>\n",
              "      \n",
              "  <style>\n",
              "    .colab-df-container {\n",
              "      display:flex;\n",
              "      flex-wrap:wrap;\n",
              "      gap: 12px;\n",
              "    }\n",
              "\n",
              "    .colab-df-convert {\n",
              "      background-color: #E8F0FE;\n",
              "      border: none;\n",
              "      border-radius: 50%;\n",
              "      cursor: pointer;\n",
              "      display: none;\n",
              "      fill: #1967D2;\n",
              "      height: 32px;\n",
              "      padding: 0 0 0 0;\n",
              "      width: 32px;\n",
              "    }\n",
              "\n",
              "    .colab-df-convert:hover {\n",
              "      background-color: #E2EBFA;\n",
              "      box-shadow: 0px 1px 2px rgba(60, 64, 67, 0.3), 0px 1px 3px 1px rgba(60, 64, 67, 0.15);\n",
              "      fill: #174EA6;\n",
              "    }\n",
              "\n",
              "    [theme=dark] .colab-df-convert {\n",
              "      background-color: #3B4455;\n",
              "      fill: #D2E3FC;\n",
              "    }\n",
              "\n",
              "    [theme=dark] .colab-df-convert:hover {\n",
              "      background-color: #434B5C;\n",
              "      box-shadow: 0px 1px 3px 1px rgba(0, 0, 0, 0.15);\n",
              "      filter: drop-shadow(0px 1px 2px rgba(0, 0, 0, 0.3));\n",
              "      fill: #FFFFFF;\n",
              "    }\n",
              "  </style>\n",
              "\n",
              "      <script>\n",
              "        const buttonEl =\n",
              "          document.querySelector('#df-b92526a1-a4b8-4a87-9b62-d0c17c95e772 button.colab-df-convert');\n",
              "        buttonEl.style.display =\n",
              "          google.colab.kernel.accessAllowed ? 'block' : 'none';\n",
              "\n",
              "        async function convertToInteractive(key) {\n",
              "          const element = document.querySelector('#df-b92526a1-a4b8-4a87-9b62-d0c17c95e772');\n",
              "          const dataTable =\n",
              "            await google.colab.kernel.invokeFunction('convertToInteractive',\n",
              "                                                     [key], {});\n",
              "          if (!dataTable) return;\n",
              "\n",
              "          const docLinkHtml = 'Like what you see? Visit the ' +\n",
              "            '<a target=\"_blank\" href=https://colab.research.google.com/notebooks/data_table.ipynb>data table notebook</a>'\n",
              "            + ' to learn more about interactive tables.';\n",
              "          element.innerHTML = '';\n",
              "          dataTable['output_type'] = 'display_data';\n",
              "          await google.colab.output.renderOutput(dataTable, element);\n",
              "          const docLink = document.createElement('div');\n",
              "          docLink.innerHTML = docLinkHtml;\n",
              "          element.appendChild(docLink);\n",
              "        }\n",
              "      </script>\n",
              "    </div>\n",
              "  </div>\n",
              "  "
            ]
          },
          "metadata": {},
          "execution_count": 52
        }
      ],
      "source": [
        "Df[:1] "
      ]
    },
    {
      "cell_type": "code",
      "source": [
        "Df.columns=list(map(lambda x :x.replace(\" \",\"_\"),Df.columns))"
      ],
      "metadata": {
        "id": "vzeyAS7UANol"
      },
      "id": "vzeyAS7UANol",
      "execution_count": 53,
      "outputs": []
    },
    {
      "cell_type": "code",
      "source": [
        "Df.columns"
      ],
      "metadata": {
        "id": "qYjyVFGxCOOV",
        "outputId": "36bf3aba-bcc9-4568-94f5-f7f754116f23",
        "colab": {
          "base_uri": "https://localhost:8080/"
        }
      },
      "id": "qYjyVFGxCOOV",
      "execution_count": 54,
      "outputs": [
        {
          "output_type": "execute_result",
          "data": {
            "text/plain": [
              "Index(['mean_radius', 'mean_texture', 'mean_perimeter', 'mean_area',\n",
              "       'mean_smoothness', 'mean_compactness', 'mean_concavity',\n",
              "       'mean_concave_points', 'mean_symmetry', 'mean_fractal_dimension',\n",
              "       'radius_error', 'texture_error', 'perimeter_error', 'area_error',\n",
              "       'smoothness_error', 'compactness_error', 'concavity_error',\n",
              "       'concave_points_error', 'symmetry_error', 'fractal_dimension_error',\n",
              "       'worst_radius', 'worst_texture', 'worst_perimeter', 'worst_area',\n",
              "       'worst_smoothness', 'worst_compactness', 'worst_concavity',\n",
              "       'worst_concave_points', 'worst_symmetry', 'worst_fractal_dimension',\n",
              "       'target'],\n",
              "      dtype='object')"
            ]
          },
          "metadata": {},
          "execution_count": 54
        }
      ]
    },
    {
      "cell_type": "code",
      "execution_count": 59,
      "id": "b4a5f434",
      "metadata": {
        "execution": {
          "iopub.execute_input": "2022-06-02T21:53:46.399797Z",
          "iopub.status.busy": "2022-06-02T21:53:46.399189Z",
          "iopub.status.idle": "2022-06-02T21:53:46.413155Z",
          "shell.execute_reply": "2022-06-02T21:53:46.412173Z"
        },
        "papermill": {
          "duration": 0.034858,
          "end_time": "2022-06-02T21:53:46.415907",
          "exception": false,
          "start_time": "2022-06-02T21:53:46.381049",
          "status": "completed"
        },
        "tags": [],
        "id": "b4a5f434",
        "outputId": "a620f630-0562-4782-f42a-65a79d6bde16",
        "colab": {
          "base_uri": "https://localhost:8080/"
        }
      },
      "outputs": [
        {
          "output_type": "execute_result",
          "data": {
            "text/plain": [
              "0    17.99\n",
              "Name: mean_radius, dtype: float64"
            ]
          },
          "metadata": {},
          "execution_count": 59
        }
      ],
      "source": [
        "Df[:1][\"mean_radius\"] "
      ]
    },
    {
      "cell_type": "code",
      "execution_count": 57,
      "id": "04d3191e",
      "metadata": {
        "execution": {
          "iopub.execute_input": "2022-06-02T21:53:46.457816Z",
          "iopub.status.busy": "2022-06-02T21:53:46.456843Z",
          "iopub.status.idle": "2022-06-02T21:53:46.498655Z",
          "shell.execute_reply": "2022-06-02T21:53:46.497604Z"
        },
        "papermill": {
          "duration": 0.065664,
          "end_time": "2022-06-02T21:53:46.501829",
          "exception": false,
          "start_time": "2022-06-02T21:53:46.436165",
          "status": "completed"
        },
        "tags": [],
        "id": "04d3191e",
        "outputId": "88a0f074-ca2a-44a6-d068-01ea7afb6b07",
        "colab": {
          "base_uri": "https://localhost:8080/",
          "height": 488
        }
      },
      "outputs": [
        {
          "output_type": "execute_result",
          "data": {
            "text/plain": [
              "     mean_texture  mean_perimeter  mean_area  mean_smoothness  \\\n",
              "0           10.38          122.80     1001.0          0.11840   \n",
              "1           17.77          132.90     1326.0          0.08474   \n",
              "2           21.25          130.00     1203.0          0.10960   \n",
              "3           20.38           77.58      386.1          0.14250   \n",
              "4           14.34          135.10     1297.0          0.10030   \n",
              "..            ...             ...        ...              ...   \n",
              "564         22.39          142.00     1479.0          0.11100   \n",
              "565         28.25          131.20     1261.0          0.09780   \n",
              "566         28.08          108.30      858.1          0.08455   \n",
              "567         29.33          140.10     1265.0          0.11780   \n",
              "568         24.54           47.92      181.0          0.05263   \n",
              "\n",
              "     mean_compactness  mean_concavity  mean_concave_points  mean_symmetry  \\\n",
              "0             0.27760         0.30010              0.14710         0.2419   \n",
              "1             0.07864         0.08690              0.07017         0.1812   \n",
              "2             0.15990         0.19740              0.12790         0.2069   \n",
              "3             0.28390         0.24140              0.10520         0.2597   \n",
              "4             0.13280         0.19800              0.10430         0.1809   \n",
              "..                ...             ...                  ...            ...   \n",
              "564           0.11590         0.24390              0.13890         0.1726   \n",
              "565           0.10340         0.14400              0.09791         0.1752   \n",
              "566           0.10230         0.09251              0.05302         0.1590   \n",
              "567           0.27700         0.35140              0.15200         0.2397   \n",
              "568           0.04362         0.00000              0.00000         0.1587   \n",
              "\n",
              "     mean_fractal_dimension  radius_error  ...  worst_texture  \\\n",
              "0                   0.07871        1.0950  ...          17.33   \n",
              "1                   0.05667        0.5435  ...          23.41   \n",
              "2                   0.05999        0.7456  ...          25.53   \n",
              "3                   0.09744        0.4956  ...          26.50   \n",
              "4                   0.05883        0.7572  ...          16.67   \n",
              "..                      ...           ...  ...            ...   \n",
              "564                 0.05623        1.1760  ...          26.40   \n",
              "565                 0.05533        0.7655  ...          38.25   \n",
              "566                 0.05648        0.4564  ...          34.12   \n",
              "567                 0.07016        0.7260  ...          39.42   \n",
              "568                 0.05884        0.3857  ...          30.37   \n",
              "\n",
              "     worst_perimeter  worst_area  worst_smoothness  worst_compactness  \\\n",
              "0             184.60      2019.0           0.16220            0.66560   \n",
              "1             158.80      1956.0           0.12380            0.18660   \n",
              "2             152.50      1709.0           0.14440            0.42450   \n",
              "3              98.87       567.7           0.20980            0.86630   \n",
              "4             152.20      1575.0           0.13740            0.20500   \n",
              "..               ...         ...               ...                ...   \n",
              "564           166.10      2027.0           0.14100            0.21130   \n",
              "565           155.00      1731.0           0.11660            0.19220   \n",
              "566           126.70      1124.0           0.11390            0.30940   \n",
              "567           184.60      1821.0           0.16500            0.86810   \n",
              "568            59.16       268.6           0.08996            0.06444   \n",
              "\n",
              "     worst_concavity  worst_concave_points  worst_symmetry  \\\n",
              "0             0.7119                0.2654          0.4601   \n",
              "1             0.2416                0.1860          0.2750   \n",
              "2             0.4504                0.2430          0.3613   \n",
              "3             0.6869                0.2575          0.6638   \n",
              "4             0.4000                0.1625          0.2364   \n",
              "..               ...                   ...             ...   \n",
              "564           0.4107                0.2216          0.2060   \n",
              "565           0.3215                0.1628          0.2572   \n",
              "566           0.3403                0.1418          0.2218   \n",
              "567           0.9387                0.2650          0.4087   \n",
              "568           0.0000                0.0000          0.2871   \n",
              "\n",
              "     worst_fractal_dimension  target  \n",
              "0                    0.11890     0.0  \n",
              "1                    0.08902     0.0  \n",
              "2                    0.08758     0.0  \n",
              "3                    0.17300     0.0  \n",
              "4                    0.07678     0.0  \n",
              "..                       ...     ...  \n",
              "564                  0.07115     0.0  \n",
              "565                  0.06637     0.0  \n",
              "566                  0.07820     0.0  \n",
              "567                  0.12400     0.0  \n",
              "568                  0.07039     1.0  \n",
              "\n",
              "[569 rows x 30 columns]"
            ],
            "text/html": [
              "\n",
              "  <div id=\"df-1f577093-eec7-4836-82ae-0462ed5ffbbd\">\n",
              "    <div class=\"colab-df-container\">\n",
              "      <div>\n",
              "<style scoped>\n",
              "    .dataframe tbody tr th:only-of-type {\n",
              "        vertical-align: middle;\n",
              "    }\n",
              "\n",
              "    .dataframe tbody tr th {\n",
              "        vertical-align: top;\n",
              "    }\n",
              "\n",
              "    .dataframe thead th {\n",
              "        text-align: right;\n",
              "    }\n",
              "</style>\n",
              "<table border=\"1\" class=\"dataframe\">\n",
              "  <thead>\n",
              "    <tr style=\"text-align: right;\">\n",
              "      <th></th>\n",
              "      <th>mean_texture</th>\n",
              "      <th>mean_perimeter</th>\n",
              "      <th>mean_area</th>\n",
              "      <th>mean_smoothness</th>\n",
              "      <th>mean_compactness</th>\n",
              "      <th>mean_concavity</th>\n",
              "      <th>mean_concave_points</th>\n",
              "      <th>mean_symmetry</th>\n",
              "      <th>mean_fractal_dimension</th>\n",
              "      <th>radius_error</th>\n",
              "      <th>...</th>\n",
              "      <th>worst_texture</th>\n",
              "      <th>worst_perimeter</th>\n",
              "      <th>worst_area</th>\n",
              "      <th>worst_smoothness</th>\n",
              "      <th>worst_compactness</th>\n",
              "      <th>worst_concavity</th>\n",
              "      <th>worst_concave_points</th>\n",
              "      <th>worst_symmetry</th>\n",
              "      <th>worst_fractal_dimension</th>\n",
              "      <th>target</th>\n",
              "    </tr>\n",
              "  </thead>\n",
              "  <tbody>\n",
              "    <tr>\n",
              "      <th>0</th>\n",
              "      <td>10.38</td>\n",
              "      <td>122.80</td>\n",
              "      <td>1001.0</td>\n",
              "      <td>0.11840</td>\n",
              "      <td>0.27760</td>\n",
              "      <td>0.30010</td>\n",
              "      <td>0.14710</td>\n",
              "      <td>0.2419</td>\n",
              "      <td>0.07871</td>\n",
              "      <td>1.0950</td>\n",
              "      <td>...</td>\n",
              "      <td>17.33</td>\n",
              "      <td>184.60</td>\n",
              "      <td>2019.0</td>\n",
              "      <td>0.16220</td>\n",
              "      <td>0.66560</td>\n",
              "      <td>0.7119</td>\n",
              "      <td>0.2654</td>\n",
              "      <td>0.4601</td>\n",
              "      <td>0.11890</td>\n",
              "      <td>0.0</td>\n",
              "    </tr>\n",
              "    <tr>\n",
              "      <th>1</th>\n",
              "      <td>17.77</td>\n",
              "      <td>132.90</td>\n",
              "      <td>1326.0</td>\n",
              "      <td>0.08474</td>\n",
              "      <td>0.07864</td>\n",
              "      <td>0.08690</td>\n",
              "      <td>0.07017</td>\n",
              "      <td>0.1812</td>\n",
              "      <td>0.05667</td>\n",
              "      <td>0.5435</td>\n",
              "      <td>...</td>\n",
              "      <td>23.41</td>\n",
              "      <td>158.80</td>\n",
              "      <td>1956.0</td>\n",
              "      <td>0.12380</td>\n",
              "      <td>0.18660</td>\n",
              "      <td>0.2416</td>\n",
              "      <td>0.1860</td>\n",
              "      <td>0.2750</td>\n",
              "      <td>0.08902</td>\n",
              "      <td>0.0</td>\n",
              "    </tr>\n",
              "    <tr>\n",
              "      <th>2</th>\n",
              "      <td>21.25</td>\n",
              "      <td>130.00</td>\n",
              "      <td>1203.0</td>\n",
              "      <td>0.10960</td>\n",
              "      <td>0.15990</td>\n",
              "      <td>0.19740</td>\n",
              "      <td>0.12790</td>\n",
              "      <td>0.2069</td>\n",
              "      <td>0.05999</td>\n",
              "      <td>0.7456</td>\n",
              "      <td>...</td>\n",
              "      <td>25.53</td>\n",
              "      <td>152.50</td>\n",
              "      <td>1709.0</td>\n",
              "      <td>0.14440</td>\n",
              "      <td>0.42450</td>\n",
              "      <td>0.4504</td>\n",
              "      <td>0.2430</td>\n",
              "      <td>0.3613</td>\n",
              "      <td>0.08758</td>\n",
              "      <td>0.0</td>\n",
              "    </tr>\n",
              "    <tr>\n",
              "      <th>3</th>\n",
              "      <td>20.38</td>\n",
              "      <td>77.58</td>\n",
              "      <td>386.1</td>\n",
              "      <td>0.14250</td>\n",
              "      <td>0.28390</td>\n",
              "      <td>0.24140</td>\n",
              "      <td>0.10520</td>\n",
              "      <td>0.2597</td>\n",
              "      <td>0.09744</td>\n",
              "      <td>0.4956</td>\n",
              "      <td>...</td>\n",
              "      <td>26.50</td>\n",
              "      <td>98.87</td>\n",
              "      <td>567.7</td>\n",
              "      <td>0.20980</td>\n",
              "      <td>0.86630</td>\n",
              "      <td>0.6869</td>\n",
              "      <td>0.2575</td>\n",
              "      <td>0.6638</td>\n",
              "      <td>0.17300</td>\n",
              "      <td>0.0</td>\n",
              "    </tr>\n",
              "    <tr>\n",
              "      <th>4</th>\n",
              "      <td>14.34</td>\n",
              "      <td>135.10</td>\n",
              "      <td>1297.0</td>\n",
              "      <td>0.10030</td>\n",
              "      <td>0.13280</td>\n",
              "      <td>0.19800</td>\n",
              "      <td>0.10430</td>\n",
              "      <td>0.1809</td>\n",
              "      <td>0.05883</td>\n",
              "      <td>0.7572</td>\n",
              "      <td>...</td>\n",
              "      <td>16.67</td>\n",
              "      <td>152.20</td>\n",
              "      <td>1575.0</td>\n",
              "      <td>0.13740</td>\n",
              "      <td>0.20500</td>\n",
              "      <td>0.4000</td>\n",
              "      <td>0.1625</td>\n",
              "      <td>0.2364</td>\n",
              "      <td>0.07678</td>\n",
              "      <td>0.0</td>\n",
              "    </tr>\n",
              "    <tr>\n",
              "      <th>...</th>\n",
              "      <td>...</td>\n",
              "      <td>...</td>\n",
              "      <td>...</td>\n",
              "      <td>...</td>\n",
              "      <td>...</td>\n",
              "      <td>...</td>\n",
              "      <td>...</td>\n",
              "      <td>...</td>\n",
              "      <td>...</td>\n",
              "      <td>...</td>\n",
              "      <td>...</td>\n",
              "      <td>...</td>\n",
              "      <td>...</td>\n",
              "      <td>...</td>\n",
              "      <td>...</td>\n",
              "      <td>...</td>\n",
              "      <td>...</td>\n",
              "      <td>...</td>\n",
              "      <td>...</td>\n",
              "      <td>...</td>\n",
              "      <td>...</td>\n",
              "    </tr>\n",
              "    <tr>\n",
              "      <th>564</th>\n",
              "      <td>22.39</td>\n",
              "      <td>142.00</td>\n",
              "      <td>1479.0</td>\n",
              "      <td>0.11100</td>\n",
              "      <td>0.11590</td>\n",
              "      <td>0.24390</td>\n",
              "      <td>0.13890</td>\n",
              "      <td>0.1726</td>\n",
              "      <td>0.05623</td>\n",
              "      <td>1.1760</td>\n",
              "      <td>...</td>\n",
              "      <td>26.40</td>\n",
              "      <td>166.10</td>\n",
              "      <td>2027.0</td>\n",
              "      <td>0.14100</td>\n",
              "      <td>0.21130</td>\n",
              "      <td>0.4107</td>\n",
              "      <td>0.2216</td>\n",
              "      <td>0.2060</td>\n",
              "      <td>0.07115</td>\n",
              "      <td>0.0</td>\n",
              "    </tr>\n",
              "    <tr>\n",
              "      <th>565</th>\n",
              "      <td>28.25</td>\n",
              "      <td>131.20</td>\n",
              "      <td>1261.0</td>\n",
              "      <td>0.09780</td>\n",
              "      <td>0.10340</td>\n",
              "      <td>0.14400</td>\n",
              "      <td>0.09791</td>\n",
              "      <td>0.1752</td>\n",
              "      <td>0.05533</td>\n",
              "      <td>0.7655</td>\n",
              "      <td>...</td>\n",
              "      <td>38.25</td>\n",
              "      <td>155.00</td>\n",
              "      <td>1731.0</td>\n",
              "      <td>0.11660</td>\n",
              "      <td>0.19220</td>\n",
              "      <td>0.3215</td>\n",
              "      <td>0.1628</td>\n",
              "      <td>0.2572</td>\n",
              "      <td>0.06637</td>\n",
              "      <td>0.0</td>\n",
              "    </tr>\n",
              "    <tr>\n",
              "      <th>566</th>\n",
              "      <td>28.08</td>\n",
              "      <td>108.30</td>\n",
              "      <td>858.1</td>\n",
              "      <td>0.08455</td>\n",
              "      <td>0.10230</td>\n",
              "      <td>0.09251</td>\n",
              "      <td>0.05302</td>\n",
              "      <td>0.1590</td>\n",
              "      <td>0.05648</td>\n",
              "      <td>0.4564</td>\n",
              "      <td>...</td>\n",
              "      <td>34.12</td>\n",
              "      <td>126.70</td>\n",
              "      <td>1124.0</td>\n",
              "      <td>0.11390</td>\n",
              "      <td>0.30940</td>\n",
              "      <td>0.3403</td>\n",
              "      <td>0.1418</td>\n",
              "      <td>0.2218</td>\n",
              "      <td>0.07820</td>\n",
              "      <td>0.0</td>\n",
              "    </tr>\n",
              "    <tr>\n",
              "      <th>567</th>\n",
              "      <td>29.33</td>\n",
              "      <td>140.10</td>\n",
              "      <td>1265.0</td>\n",
              "      <td>0.11780</td>\n",
              "      <td>0.27700</td>\n",
              "      <td>0.35140</td>\n",
              "      <td>0.15200</td>\n",
              "      <td>0.2397</td>\n",
              "      <td>0.07016</td>\n",
              "      <td>0.7260</td>\n",
              "      <td>...</td>\n",
              "      <td>39.42</td>\n",
              "      <td>184.60</td>\n",
              "      <td>1821.0</td>\n",
              "      <td>0.16500</td>\n",
              "      <td>0.86810</td>\n",
              "      <td>0.9387</td>\n",
              "      <td>0.2650</td>\n",
              "      <td>0.4087</td>\n",
              "      <td>0.12400</td>\n",
              "      <td>0.0</td>\n",
              "    </tr>\n",
              "    <tr>\n",
              "      <th>568</th>\n",
              "      <td>24.54</td>\n",
              "      <td>47.92</td>\n",
              "      <td>181.0</td>\n",
              "      <td>0.05263</td>\n",
              "      <td>0.04362</td>\n",
              "      <td>0.00000</td>\n",
              "      <td>0.00000</td>\n",
              "      <td>0.1587</td>\n",
              "      <td>0.05884</td>\n",
              "      <td>0.3857</td>\n",
              "      <td>...</td>\n",
              "      <td>30.37</td>\n",
              "      <td>59.16</td>\n",
              "      <td>268.6</td>\n",
              "      <td>0.08996</td>\n",
              "      <td>0.06444</td>\n",
              "      <td>0.0000</td>\n",
              "      <td>0.0000</td>\n",
              "      <td>0.2871</td>\n",
              "      <td>0.07039</td>\n",
              "      <td>1.0</td>\n",
              "    </tr>\n",
              "  </tbody>\n",
              "</table>\n",
              "<p>569 rows × 30 columns</p>\n",
              "</div>\n",
              "      <button class=\"colab-df-convert\" onclick=\"convertToInteractive('df-1f577093-eec7-4836-82ae-0462ed5ffbbd')\"\n",
              "              title=\"Convert this dataframe to an interactive table.\"\n",
              "              style=\"display:none;\">\n",
              "        \n",
              "  <svg xmlns=\"http://www.w3.org/2000/svg\" height=\"24px\"viewBox=\"0 0 24 24\"\n",
              "       width=\"24px\">\n",
              "    <path d=\"M0 0h24v24H0V0z\" fill=\"none\"/>\n",
              "    <path d=\"M18.56 5.44l.94 2.06.94-2.06 2.06-.94-2.06-.94-.94-2.06-.94 2.06-2.06.94zm-11 1L8.5 8.5l.94-2.06 2.06-.94-2.06-.94L8.5 2.5l-.94 2.06-2.06.94zm10 10l.94 2.06.94-2.06 2.06-.94-2.06-.94-.94-2.06-.94 2.06-2.06.94z\"/><path d=\"M17.41 7.96l-1.37-1.37c-.4-.4-.92-.59-1.43-.59-.52 0-1.04.2-1.43.59L10.3 9.45l-7.72 7.72c-.78.78-.78 2.05 0 2.83L4 21.41c.39.39.9.59 1.41.59.51 0 1.02-.2 1.41-.59l7.78-7.78 2.81-2.81c.8-.78.8-2.07 0-2.86zM5.41 20L4 18.59l7.72-7.72 1.47 1.35L5.41 20z\"/>\n",
              "  </svg>\n",
              "      </button>\n",
              "      \n",
              "  <style>\n",
              "    .colab-df-container {\n",
              "      display:flex;\n",
              "      flex-wrap:wrap;\n",
              "      gap: 12px;\n",
              "    }\n",
              "\n",
              "    .colab-df-convert {\n",
              "      background-color: #E8F0FE;\n",
              "      border: none;\n",
              "      border-radius: 50%;\n",
              "      cursor: pointer;\n",
              "      display: none;\n",
              "      fill: #1967D2;\n",
              "      height: 32px;\n",
              "      padding: 0 0 0 0;\n",
              "      width: 32px;\n",
              "    }\n",
              "\n",
              "    .colab-df-convert:hover {\n",
              "      background-color: #E2EBFA;\n",
              "      box-shadow: 0px 1px 2px rgba(60, 64, 67, 0.3), 0px 1px 3px 1px rgba(60, 64, 67, 0.15);\n",
              "      fill: #174EA6;\n",
              "    }\n",
              "\n",
              "    [theme=dark] .colab-df-convert {\n",
              "      background-color: #3B4455;\n",
              "      fill: #D2E3FC;\n",
              "    }\n",
              "\n",
              "    [theme=dark] .colab-df-convert:hover {\n",
              "      background-color: #434B5C;\n",
              "      box-shadow: 0px 1px 3px 1px rgba(0, 0, 0, 0.15);\n",
              "      filter: drop-shadow(0px 1px 2px rgba(0, 0, 0, 0.3));\n",
              "      fill: #FFFFFF;\n",
              "    }\n",
              "  </style>\n",
              "\n",
              "      <script>\n",
              "        const buttonEl =\n",
              "          document.querySelector('#df-1f577093-eec7-4836-82ae-0462ed5ffbbd button.colab-df-convert');\n",
              "        buttonEl.style.display =\n",
              "          google.colab.kernel.accessAllowed ? 'block' : 'none';\n",
              "\n",
              "        async function convertToInteractive(key) {\n",
              "          const element = document.querySelector('#df-1f577093-eec7-4836-82ae-0462ed5ffbbd');\n",
              "          const dataTable =\n",
              "            await google.colab.kernel.invokeFunction('convertToInteractive',\n",
              "                                                     [key], {});\n",
              "          if (!dataTable) return;\n",
              "\n",
              "          const docLinkHtml = 'Like what you see? Visit the ' +\n",
              "            '<a target=\"_blank\" href=https://colab.research.google.com/notebooks/data_table.ipynb>data table notebook</a>'\n",
              "            + ' to learn more about interactive tables.';\n",
              "          element.innerHTML = '';\n",
              "          dataTable['output_type'] = 'display_data';\n",
              "          await google.colab.output.renderOutput(dataTable, element);\n",
              "          const docLink = document.createElement('div');\n",
              "          docLink.innerHTML = docLinkHtml;\n",
              "          element.appendChild(docLink);\n",
              "        }\n",
              "      </script>\n",
              "    </div>\n",
              "  </div>\n",
              "  "
            ]
          },
          "metadata": {},
          "execution_count": 57
        }
      ],
      "source": [
        "Df.iloc[:,1:]"
      ]
    },
    {
      "cell_type": "code",
      "execution_count": 60,
      "id": "9a868e54",
      "metadata": {
        "execution": {
          "iopub.execute_input": "2022-06-02T21:53:46.544994Z",
          "iopub.status.busy": "2022-06-02T21:53:46.544144Z",
          "iopub.status.idle": "2022-06-02T21:53:46.577604Z",
          "shell.execute_reply": "2022-06-02T21:53:46.576569Z"
        },
        "papermill": {
          "duration": 0.055893,
          "end_time": "2022-06-02T21:53:46.579965",
          "exception": false,
          "start_time": "2022-06-02T21:53:46.524072",
          "status": "completed"
        },
        "tags": [],
        "id": "9a868e54",
        "outputId": "792fd339-c46b-4b48-8a92-835f865df48e",
        "colab": {
          "base_uri": "https://localhost:8080/",
          "height": 300
        }
      },
      "outputs": [
        {
          "output_type": "execute_result",
          "data": {
            "text/plain": [
              "   mean_radius  mean_texture  mean_perimeter  mean_area  mean_smoothness  \\\n",
              "0        17.99         10.38          122.80     1001.0          0.11840   \n",
              "1        20.57         17.77          132.90     1326.0          0.08474   \n",
              "2        19.69         21.25          130.00     1203.0          0.10960   \n",
              "3        11.42         20.38           77.58      386.1          0.14250   \n",
              "4        20.29         14.34          135.10     1297.0          0.10030   \n",
              "\n",
              "   mean_compactness  mean_concavity  mean_concave_points  mean_symmetry  \\\n",
              "0           0.27760          0.3001              0.14710         0.2419   \n",
              "1           0.07864          0.0869              0.07017         0.1812   \n",
              "2           0.15990          0.1974              0.12790         0.2069   \n",
              "3           0.28390          0.2414              0.10520         0.2597   \n",
              "4           0.13280          0.1980              0.10430         0.1809   \n",
              "\n",
              "   mean_fractal_dimension  ...  worst_texture  worst_perimeter  worst_area  \\\n",
              "0                 0.07871  ...          17.33           184.60      2019.0   \n",
              "1                 0.05667  ...          23.41           158.80      1956.0   \n",
              "2                 0.05999  ...          25.53           152.50      1709.0   \n",
              "3                 0.09744  ...          26.50            98.87       567.7   \n",
              "4                 0.05883  ...          16.67           152.20      1575.0   \n",
              "\n",
              "   worst_smoothness  worst_compactness  worst_concavity  worst_concave_points  \\\n",
              "0            0.1622             0.6656           0.7119                0.2654   \n",
              "1            0.1238             0.1866           0.2416                0.1860   \n",
              "2            0.1444             0.4245           0.4504                0.2430   \n",
              "3            0.2098             0.8663           0.6869                0.2575   \n",
              "4            0.1374             0.2050           0.4000                0.1625   \n",
              "\n",
              "   worst_symmetry  worst_fractal_dimension  target  \n",
              "0          0.4601                  0.11890     0.0  \n",
              "1          0.2750                  0.08902     0.0  \n",
              "2          0.3613                  0.08758     0.0  \n",
              "3          0.6638                  0.17300     0.0  \n",
              "4          0.2364                  0.07678     0.0  \n",
              "\n",
              "[5 rows x 31 columns]"
            ],
            "text/html": [
              "\n",
              "  <div id=\"df-5493b104-6080-42c3-9ece-b847fb44932c\">\n",
              "    <div class=\"colab-df-container\">\n",
              "      <div>\n",
              "<style scoped>\n",
              "    .dataframe tbody tr th:only-of-type {\n",
              "        vertical-align: middle;\n",
              "    }\n",
              "\n",
              "    .dataframe tbody tr th {\n",
              "        vertical-align: top;\n",
              "    }\n",
              "\n",
              "    .dataframe thead th {\n",
              "        text-align: right;\n",
              "    }\n",
              "</style>\n",
              "<table border=\"1\" class=\"dataframe\">\n",
              "  <thead>\n",
              "    <tr style=\"text-align: right;\">\n",
              "      <th></th>\n",
              "      <th>mean_radius</th>\n",
              "      <th>mean_texture</th>\n",
              "      <th>mean_perimeter</th>\n",
              "      <th>mean_area</th>\n",
              "      <th>mean_smoothness</th>\n",
              "      <th>mean_compactness</th>\n",
              "      <th>mean_concavity</th>\n",
              "      <th>mean_concave_points</th>\n",
              "      <th>mean_symmetry</th>\n",
              "      <th>mean_fractal_dimension</th>\n",
              "      <th>...</th>\n",
              "      <th>worst_texture</th>\n",
              "      <th>worst_perimeter</th>\n",
              "      <th>worst_area</th>\n",
              "      <th>worst_smoothness</th>\n",
              "      <th>worst_compactness</th>\n",
              "      <th>worst_concavity</th>\n",
              "      <th>worst_concave_points</th>\n",
              "      <th>worst_symmetry</th>\n",
              "      <th>worst_fractal_dimension</th>\n",
              "      <th>target</th>\n",
              "    </tr>\n",
              "  </thead>\n",
              "  <tbody>\n",
              "    <tr>\n",
              "      <th>0</th>\n",
              "      <td>17.99</td>\n",
              "      <td>10.38</td>\n",
              "      <td>122.80</td>\n",
              "      <td>1001.0</td>\n",
              "      <td>0.11840</td>\n",
              "      <td>0.27760</td>\n",
              "      <td>0.3001</td>\n",
              "      <td>0.14710</td>\n",
              "      <td>0.2419</td>\n",
              "      <td>0.07871</td>\n",
              "      <td>...</td>\n",
              "      <td>17.33</td>\n",
              "      <td>184.60</td>\n",
              "      <td>2019.0</td>\n",
              "      <td>0.1622</td>\n",
              "      <td>0.6656</td>\n",
              "      <td>0.7119</td>\n",
              "      <td>0.2654</td>\n",
              "      <td>0.4601</td>\n",
              "      <td>0.11890</td>\n",
              "      <td>0.0</td>\n",
              "    </tr>\n",
              "    <tr>\n",
              "      <th>1</th>\n",
              "      <td>20.57</td>\n",
              "      <td>17.77</td>\n",
              "      <td>132.90</td>\n",
              "      <td>1326.0</td>\n",
              "      <td>0.08474</td>\n",
              "      <td>0.07864</td>\n",
              "      <td>0.0869</td>\n",
              "      <td>0.07017</td>\n",
              "      <td>0.1812</td>\n",
              "      <td>0.05667</td>\n",
              "      <td>...</td>\n",
              "      <td>23.41</td>\n",
              "      <td>158.80</td>\n",
              "      <td>1956.0</td>\n",
              "      <td>0.1238</td>\n",
              "      <td>0.1866</td>\n",
              "      <td>0.2416</td>\n",
              "      <td>0.1860</td>\n",
              "      <td>0.2750</td>\n",
              "      <td>0.08902</td>\n",
              "      <td>0.0</td>\n",
              "    </tr>\n",
              "    <tr>\n",
              "      <th>2</th>\n",
              "      <td>19.69</td>\n",
              "      <td>21.25</td>\n",
              "      <td>130.00</td>\n",
              "      <td>1203.0</td>\n",
              "      <td>0.10960</td>\n",
              "      <td>0.15990</td>\n",
              "      <td>0.1974</td>\n",
              "      <td>0.12790</td>\n",
              "      <td>0.2069</td>\n",
              "      <td>0.05999</td>\n",
              "      <td>...</td>\n",
              "      <td>25.53</td>\n",
              "      <td>152.50</td>\n",
              "      <td>1709.0</td>\n",
              "      <td>0.1444</td>\n",
              "      <td>0.4245</td>\n",
              "      <td>0.4504</td>\n",
              "      <td>0.2430</td>\n",
              "      <td>0.3613</td>\n",
              "      <td>0.08758</td>\n",
              "      <td>0.0</td>\n",
              "    </tr>\n",
              "    <tr>\n",
              "      <th>3</th>\n",
              "      <td>11.42</td>\n",
              "      <td>20.38</td>\n",
              "      <td>77.58</td>\n",
              "      <td>386.1</td>\n",
              "      <td>0.14250</td>\n",
              "      <td>0.28390</td>\n",
              "      <td>0.2414</td>\n",
              "      <td>0.10520</td>\n",
              "      <td>0.2597</td>\n",
              "      <td>0.09744</td>\n",
              "      <td>...</td>\n",
              "      <td>26.50</td>\n",
              "      <td>98.87</td>\n",
              "      <td>567.7</td>\n",
              "      <td>0.2098</td>\n",
              "      <td>0.8663</td>\n",
              "      <td>0.6869</td>\n",
              "      <td>0.2575</td>\n",
              "      <td>0.6638</td>\n",
              "      <td>0.17300</td>\n",
              "      <td>0.0</td>\n",
              "    </tr>\n",
              "    <tr>\n",
              "      <th>4</th>\n",
              "      <td>20.29</td>\n",
              "      <td>14.34</td>\n",
              "      <td>135.10</td>\n",
              "      <td>1297.0</td>\n",
              "      <td>0.10030</td>\n",
              "      <td>0.13280</td>\n",
              "      <td>0.1980</td>\n",
              "      <td>0.10430</td>\n",
              "      <td>0.1809</td>\n",
              "      <td>0.05883</td>\n",
              "      <td>...</td>\n",
              "      <td>16.67</td>\n",
              "      <td>152.20</td>\n",
              "      <td>1575.0</td>\n",
              "      <td>0.1374</td>\n",
              "      <td>0.2050</td>\n",
              "      <td>0.4000</td>\n",
              "      <td>0.1625</td>\n",
              "      <td>0.2364</td>\n",
              "      <td>0.07678</td>\n",
              "      <td>0.0</td>\n",
              "    </tr>\n",
              "  </tbody>\n",
              "</table>\n",
              "<p>5 rows × 31 columns</p>\n",
              "</div>\n",
              "      <button class=\"colab-df-convert\" onclick=\"convertToInteractive('df-5493b104-6080-42c3-9ece-b847fb44932c')\"\n",
              "              title=\"Convert this dataframe to an interactive table.\"\n",
              "              style=\"display:none;\">\n",
              "        \n",
              "  <svg xmlns=\"http://www.w3.org/2000/svg\" height=\"24px\"viewBox=\"0 0 24 24\"\n",
              "       width=\"24px\">\n",
              "    <path d=\"M0 0h24v24H0V0z\" fill=\"none\"/>\n",
              "    <path d=\"M18.56 5.44l.94 2.06.94-2.06 2.06-.94-2.06-.94-.94-2.06-.94 2.06-2.06.94zm-11 1L8.5 8.5l.94-2.06 2.06-.94-2.06-.94L8.5 2.5l-.94 2.06-2.06.94zm10 10l.94 2.06.94-2.06 2.06-.94-2.06-.94-.94-2.06-.94 2.06-2.06.94z\"/><path d=\"M17.41 7.96l-1.37-1.37c-.4-.4-.92-.59-1.43-.59-.52 0-1.04.2-1.43.59L10.3 9.45l-7.72 7.72c-.78.78-.78 2.05 0 2.83L4 21.41c.39.39.9.59 1.41.59.51 0 1.02-.2 1.41-.59l7.78-7.78 2.81-2.81c.8-.78.8-2.07 0-2.86zM5.41 20L4 18.59l7.72-7.72 1.47 1.35L5.41 20z\"/>\n",
              "  </svg>\n",
              "      </button>\n",
              "      \n",
              "  <style>\n",
              "    .colab-df-container {\n",
              "      display:flex;\n",
              "      flex-wrap:wrap;\n",
              "      gap: 12px;\n",
              "    }\n",
              "\n",
              "    .colab-df-convert {\n",
              "      background-color: #E8F0FE;\n",
              "      border: none;\n",
              "      border-radius: 50%;\n",
              "      cursor: pointer;\n",
              "      display: none;\n",
              "      fill: #1967D2;\n",
              "      height: 32px;\n",
              "      padding: 0 0 0 0;\n",
              "      width: 32px;\n",
              "    }\n",
              "\n",
              "    .colab-df-convert:hover {\n",
              "      background-color: #E2EBFA;\n",
              "      box-shadow: 0px 1px 2px rgba(60, 64, 67, 0.3), 0px 1px 3px 1px rgba(60, 64, 67, 0.15);\n",
              "      fill: #174EA6;\n",
              "    }\n",
              "\n",
              "    [theme=dark] .colab-df-convert {\n",
              "      background-color: #3B4455;\n",
              "      fill: #D2E3FC;\n",
              "    }\n",
              "\n",
              "    [theme=dark] .colab-df-convert:hover {\n",
              "      background-color: #434B5C;\n",
              "      box-shadow: 0px 1px 3px 1px rgba(0, 0, 0, 0.15);\n",
              "      filter: drop-shadow(0px 1px 2px rgba(0, 0, 0, 0.3));\n",
              "      fill: #FFFFFF;\n",
              "    }\n",
              "  </style>\n",
              "\n",
              "      <script>\n",
              "        const buttonEl =\n",
              "          document.querySelector('#df-5493b104-6080-42c3-9ece-b847fb44932c button.colab-df-convert');\n",
              "        buttonEl.style.display =\n",
              "          google.colab.kernel.accessAllowed ? 'block' : 'none';\n",
              "\n",
              "        async function convertToInteractive(key) {\n",
              "          const element = document.querySelector('#df-5493b104-6080-42c3-9ece-b847fb44932c');\n",
              "          const dataTable =\n",
              "            await google.colab.kernel.invokeFunction('convertToInteractive',\n",
              "                                                     [key], {});\n",
              "          if (!dataTable) return;\n",
              "\n",
              "          const docLinkHtml = 'Like what you see? Visit the ' +\n",
              "            '<a target=\"_blank\" href=https://colab.research.google.com/notebooks/data_table.ipynb>data table notebook</a>'\n",
              "            + ' to learn more about interactive tables.';\n",
              "          element.innerHTML = '';\n",
              "          dataTable['output_type'] = 'display_data';\n",
              "          await google.colab.output.renderOutput(dataTable, element);\n",
              "          const docLink = document.createElement('div');\n",
              "          docLink.innerHTML = docLinkHtml;\n",
              "          element.appendChild(docLink);\n",
              "        }\n",
              "      </script>\n",
              "    </div>\n",
              "  </div>\n",
              "  "
            ]
          },
          "metadata": {},
          "execution_count": 60
        }
      ],
      "source": [
        "Df.head()"
      ]
    },
    {
      "cell_type": "markdown",
      "id": "fa0e73d5",
      "metadata": {
        "papermill": {
          "duration": 0.017857,
          "end_time": "2022-06-02T21:53:46.661133",
          "exception": false,
          "start_time": "2022-06-02T21:53:46.643276",
          "status": "completed"
        },
        "tags": [],
        "id": "fa0e73d5"
      },
      "source": [
        ""
      ]
    },
    {
      "cell_type": "code",
      "execution_count": 61,
      "id": "023a21be",
      "metadata": {
        "execution": {
          "iopub.execute_input": "2022-06-02T21:53:46.699397Z",
          "iopub.status.busy": "2022-06-02T21:53:46.698521Z",
          "iopub.status.idle": "2022-06-02T21:53:46.725848Z",
          "shell.execute_reply": "2022-06-02T21:53:46.724878Z"
        },
        "papermill": {
          "duration": 0.050937,
          "end_time": "2022-06-02T21:53:46.729953",
          "exception": false,
          "start_time": "2022-06-02T21:53:46.679016",
          "status": "completed"
        },
        "tags": [],
        "id": "023a21be",
        "outputId": "3edf99c9-d2c0-4869-dc72-a5a0b61b5535",
        "colab": {
          "base_uri": "https://localhost:8080/"
        }
      },
      "outputs": [
        {
          "output_type": "stream",
          "name": "stdout",
          "text": [
            "<class 'pandas.core.frame.DataFrame'>\n",
            "RangeIndex: 569 entries, 0 to 568\n",
            "Data columns (total 31 columns):\n",
            " #   Column                   Non-Null Count  Dtype  \n",
            "---  ------                   --------------  -----  \n",
            " 0   mean_radius              569 non-null    float64\n",
            " 1   mean_texture             569 non-null    float64\n",
            " 2   mean_perimeter           569 non-null    float64\n",
            " 3   mean_area                569 non-null    float64\n",
            " 4   mean_smoothness          569 non-null    float64\n",
            " 5   mean_compactness         569 non-null    float64\n",
            " 6   mean_concavity           569 non-null    float64\n",
            " 7   mean_concave_points      569 non-null    float64\n",
            " 8   mean_symmetry            569 non-null    float64\n",
            " 9   mean_fractal_dimension   569 non-null    float64\n",
            " 10  radius_error             569 non-null    float64\n",
            " 11  texture_error            569 non-null    float64\n",
            " 12  perimeter_error          569 non-null    float64\n",
            " 13  area_error               569 non-null    float64\n",
            " 14  smoothness_error         569 non-null    float64\n",
            " 15  compactness_error        569 non-null    float64\n",
            " 16  concavity_error          569 non-null    float64\n",
            " 17  concave_points_error     569 non-null    float64\n",
            " 18  symmetry_error           569 non-null    float64\n",
            " 19  fractal_dimension_error  569 non-null    float64\n",
            " 20  worst_radius             569 non-null    float64\n",
            " 21  worst_texture            569 non-null    float64\n",
            " 22  worst_perimeter          569 non-null    float64\n",
            " 23  worst_area               569 non-null    float64\n",
            " 24  worst_smoothness         569 non-null    float64\n",
            " 25  worst_compactness        569 non-null    float64\n",
            " 26  worst_concavity          569 non-null    float64\n",
            " 27  worst_concave_points     569 non-null    float64\n",
            " 28  worst_symmetry           569 non-null    float64\n",
            " 29  worst_fractal_dimension  569 non-null    float64\n",
            " 30  target                   569 non-null    float64\n",
            "dtypes: float64(31)\n",
            "memory usage: 137.9 KB\n"
          ]
        }
      ],
      "source": [
        "Df.info()"
      ]
    },
    {
      "cell_type": "code",
      "execution_count": 62,
      "id": "739c84cf",
      "metadata": {
        "execution": {
          "iopub.execute_input": "2022-06-02T21:53:46.776865Z",
          "iopub.status.busy": "2022-06-02T21:53:46.775843Z",
          "iopub.status.idle": "2022-06-02T21:53:46.877410Z",
          "shell.execute_reply": "2022-06-02T21:53:46.876306Z"
        },
        "papermill": {
          "duration": 0.124455,
          "end_time": "2022-06-02T21:53:46.880413",
          "exception": false,
          "start_time": "2022-06-02T21:53:46.755958",
          "status": "completed"
        },
        "tags": [],
        "id": "739c84cf",
        "outputId": "6493c344-4e57-41d3-cb8f-952b70381c1d",
        "colab": {
          "base_uri": "https://localhost:8080/",
          "height": 394
        }
      },
      "outputs": [
        {
          "output_type": "execute_result",
          "data": {
            "text/plain": [
              "       mean_radius  mean_texture  mean_perimeter    mean_area  \\\n",
              "count   569.000000    569.000000      569.000000   569.000000   \n",
              "mean     14.127292     19.289649       91.969033   654.889104   \n",
              "std       3.524049      4.301036       24.298981   351.914129   \n",
              "min       6.981000      9.710000       43.790000   143.500000   \n",
              "25%      11.700000     16.170000       75.170000   420.300000   \n",
              "50%      13.370000     18.840000       86.240000   551.100000   \n",
              "75%      15.780000     21.800000      104.100000   782.700000   \n",
              "max      28.110000     39.280000      188.500000  2501.000000   \n",
              "\n",
              "       mean_smoothness  mean_compactness  mean_concavity  mean_concave_points  \\\n",
              "count       569.000000        569.000000      569.000000           569.000000   \n",
              "mean          0.096360          0.104341        0.088799             0.048919   \n",
              "std           0.014064          0.052813        0.079720             0.038803   \n",
              "min           0.052630          0.019380        0.000000             0.000000   \n",
              "25%           0.086370          0.064920        0.029560             0.020310   \n",
              "50%           0.095870          0.092630        0.061540             0.033500   \n",
              "75%           0.105300          0.130400        0.130700             0.074000   \n",
              "max           0.163400          0.345400        0.426800             0.201200   \n",
              "\n",
              "       mean_symmetry  mean_fractal_dimension  ...  worst_texture  \\\n",
              "count     569.000000              569.000000  ...     569.000000   \n",
              "mean        0.181162                0.062798  ...      25.677223   \n",
              "std         0.027414                0.007060  ...       6.146258   \n",
              "min         0.106000                0.049960  ...      12.020000   \n",
              "25%         0.161900                0.057700  ...      21.080000   \n",
              "50%         0.179200                0.061540  ...      25.410000   \n",
              "75%         0.195700                0.066120  ...      29.720000   \n",
              "max         0.304000                0.097440  ...      49.540000   \n",
              "\n",
              "       worst_perimeter   worst_area  worst_smoothness  worst_compactness  \\\n",
              "count       569.000000   569.000000        569.000000         569.000000   \n",
              "mean        107.261213   880.583128          0.132369           0.254265   \n",
              "std          33.602542   569.356993          0.022832           0.157336   \n",
              "min          50.410000   185.200000          0.071170           0.027290   \n",
              "25%          84.110000   515.300000          0.116600           0.147200   \n",
              "50%          97.660000   686.500000          0.131300           0.211900   \n",
              "75%         125.400000  1084.000000          0.146000           0.339100   \n",
              "max         251.200000  4254.000000          0.222600           1.058000   \n",
              "\n",
              "       worst_concavity  worst_concave_points  worst_symmetry  \\\n",
              "count       569.000000            569.000000      569.000000   \n",
              "mean          0.272188              0.114606        0.290076   \n",
              "std           0.208624              0.065732        0.061867   \n",
              "min           0.000000              0.000000        0.156500   \n",
              "25%           0.114500              0.064930        0.250400   \n",
              "50%           0.226700              0.099930        0.282200   \n",
              "75%           0.382900              0.161400        0.317900   \n",
              "max           1.252000              0.291000        0.663800   \n",
              "\n",
              "       worst_fractal_dimension      target  \n",
              "count               569.000000  569.000000  \n",
              "mean                  0.083946    0.627417  \n",
              "std                   0.018061    0.483918  \n",
              "min                   0.055040    0.000000  \n",
              "25%                   0.071460    0.000000  \n",
              "50%                   0.080040    1.000000  \n",
              "75%                   0.092080    1.000000  \n",
              "max                   0.207500    1.000000  \n",
              "\n",
              "[8 rows x 31 columns]"
            ],
            "text/html": [
              "\n",
              "  <div id=\"df-796397dd-c4e5-49b6-8038-45b72c2914cb\">\n",
              "    <div class=\"colab-df-container\">\n",
              "      <div>\n",
              "<style scoped>\n",
              "    .dataframe tbody tr th:only-of-type {\n",
              "        vertical-align: middle;\n",
              "    }\n",
              "\n",
              "    .dataframe tbody tr th {\n",
              "        vertical-align: top;\n",
              "    }\n",
              "\n",
              "    .dataframe thead th {\n",
              "        text-align: right;\n",
              "    }\n",
              "</style>\n",
              "<table border=\"1\" class=\"dataframe\">\n",
              "  <thead>\n",
              "    <tr style=\"text-align: right;\">\n",
              "      <th></th>\n",
              "      <th>mean_radius</th>\n",
              "      <th>mean_texture</th>\n",
              "      <th>mean_perimeter</th>\n",
              "      <th>mean_area</th>\n",
              "      <th>mean_smoothness</th>\n",
              "      <th>mean_compactness</th>\n",
              "      <th>mean_concavity</th>\n",
              "      <th>mean_concave_points</th>\n",
              "      <th>mean_symmetry</th>\n",
              "      <th>mean_fractal_dimension</th>\n",
              "      <th>...</th>\n",
              "      <th>worst_texture</th>\n",
              "      <th>worst_perimeter</th>\n",
              "      <th>worst_area</th>\n",
              "      <th>worst_smoothness</th>\n",
              "      <th>worst_compactness</th>\n",
              "      <th>worst_concavity</th>\n",
              "      <th>worst_concave_points</th>\n",
              "      <th>worst_symmetry</th>\n",
              "      <th>worst_fractal_dimension</th>\n",
              "      <th>target</th>\n",
              "    </tr>\n",
              "  </thead>\n",
              "  <tbody>\n",
              "    <tr>\n",
              "      <th>count</th>\n",
              "      <td>569.000000</td>\n",
              "      <td>569.000000</td>\n",
              "      <td>569.000000</td>\n",
              "      <td>569.000000</td>\n",
              "      <td>569.000000</td>\n",
              "      <td>569.000000</td>\n",
              "      <td>569.000000</td>\n",
              "      <td>569.000000</td>\n",
              "      <td>569.000000</td>\n",
              "      <td>569.000000</td>\n",
              "      <td>...</td>\n",
              "      <td>569.000000</td>\n",
              "      <td>569.000000</td>\n",
              "      <td>569.000000</td>\n",
              "      <td>569.000000</td>\n",
              "      <td>569.000000</td>\n",
              "      <td>569.000000</td>\n",
              "      <td>569.000000</td>\n",
              "      <td>569.000000</td>\n",
              "      <td>569.000000</td>\n",
              "      <td>569.000000</td>\n",
              "    </tr>\n",
              "    <tr>\n",
              "      <th>mean</th>\n",
              "      <td>14.127292</td>\n",
              "      <td>19.289649</td>\n",
              "      <td>91.969033</td>\n",
              "      <td>654.889104</td>\n",
              "      <td>0.096360</td>\n",
              "      <td>0.104341</td>\n",
              "      <td>0.088799</td>\n",
              "      <td>0.048919</td>\n",
              "      <td>0.181162</td>\n",
              "      <td>0.062798</td>\n",
              "      <td>...</td>\n",
              "      <td>25.677223</td>\n",
              "      <td>107.261213</td>\n",
              "      <td>880.583128</td>\n",
              "      <td>0.132369</td>\n",
              "      <td>0.254265</td>\n",
              "      <td>0.272188</td>\n",
              "      <td>0.114606</td>\n",
              "      <td>0.290076</td>\n",
              "      <td>0.083946</td>\n",
              "      <td>0.627417</td>\n",
              "    </tr>\n",
              "    <tr>\n",
              "      <th>std</th>\n",
              "      <td>3.524049</td>\n",
              "      <td>4.301036</td>\n",
              "      <td>24.298981</td>\n",
              "      <td>351.914129</td>\n",
              "      <td>0.014064</td>\n",
              "      <td>0.052813</td>\n",
              "      <td>0.079720</td>\n",
              "      <td>0.038803</td>\n",
              "      <td>0.027414</td>\n",
              "      <td>0.007060</td>\n",
              "      <td>...</td>\n",
              "      <td>6.146258</td>\n",
              "      <td>33.602542</td>\n",
              "      <td>569.356993</td>\n",
              "      <td>0.022832</td>\n",
              "      <td>0.157336</td>\n",
              "      <td>0.208624</td>\n",
              "      <td>0.065732</td>\n",
              "      <td>0.061867</td>\n",
              "      <td>0.018061</td>\n",
              "      <td>0.483918</td>\n",
              "    </tr>\n",
              "    <tr>\n",
              "      <th>min</th>\n",
              "      <td>6.981000</td>\n",
              "      <td>9.710000</td>\n",
              "      <td>43.790000</td>\n",
              "      <td>143.500000</td>\n",
              "      <td>0.052630</td>\n",
              "      <td>0.019380</td>\n",
              "      <td>0.000000</td>\n",
              "      <td>0.000000</td>\n",
              "      <td>0.106000</td>\n",
              "      <td>0.049960</td>\n",
              "      <td>...</td>\n",
              "      <td>12.020000</td>\n",
              "      <td>50.410000</td>\n",
              "      <td>185.200000</td>\n",
              "      <td>0.071170</td>\n",
              "      <td>0.027290</td>\n",
              "      <td>0.000000</td>\n",
              "      <td>0.000000</td>\n",
              "      <td>0.156500</td>\n",
              "      <td>0.055040</td>\n",
              "      <td>0.000000</td>\n",
              "    </tr>\n",
              "    <tr>\n",
              "      <th>25%</th>\n",
              "      <td>11.700000</td>\n",
              "      <td>16.170000</td>\n",
              "      <td>75.170000</td>\n",
              "      <td>420.300000</td>\n",
              "      <td>0.086370</td>\n",
              "      <td>0.064920</td>\n",
              "      <td>0.029560</td>\n",
              "      <td>0.020310</td>\n",
              "      <td>0.161900</td>\n",
              "      <td>0.057700</td>\n",
              "      <td>...</td>\n",
              "      <td>21.080000</td>\n",
              "      <td>84.110000</td>\n",
              "      <td>515.300000</td>\n",
              "      <td>0.116600</td>\n",
              "      <td>0.147200</td>\n",
              "      <td>0.114500</td>\n",
              "      <td>0.064930</td>\n",
              "      <td>0.250400</td>\n",
              "      <td>0.071460</td>\n",
              "      <td>0.000000</td>\n",
              "    </tr>\n",
              "    <tr>\n",
              "      <th>50%</th>\n",
              "      <td>13.370000</td>\n",
              "      <td>18.840000</td>\n",
              "      <td>86.240000</td>\n",
              "      <td>551.100000</td>\n",
              "      <td>0.095870</td>\n",
              "      <td>0.092630</td>\n",
              "      <td>0.061540</td>\n",
              "      <td>0.033500</td>\n",
              "      <td>0.179200</td>\n",
              "      <td>0.061540</td>\n",
              "      <td>...</td>\n",
              "      <td>25.410000</td>\n",
              "      <td>97.660000</td>\n",
              "      <td>686.500000</td>\n",
              "      <td>0.131300</td>\n",
              "      <td>0.211900</td>\n",
              "      <td>0.226700</td>\n",
              "      <td>0.099930</td>\n",
              "      <td>0.282200</td>\n",
              "      <td>0.080040</td>\n",
              "      <td>1.000000</td>\n",
              "    </tr>\n",
              "    <tr>\n",
              "      <th>75%</th>\n",
              "      <td>15.780000</td>\n",
              "      <td>21.800000</td>\n",
              "      <td>104.100000</td>\n",
              "      <td>782.700000</td>\n",
              "      <td>0.105300</td>\n",
              "      <td>0.130400</td>\n",
              "      <td>0.130700</td>\n",
              "      <td>0.074000</td>\n",
              "      <td>0.195700</td>\n",
              "      <td>0.066120</td>\n",
              "      <td>...</td>\n",
              "      <td>29.720000</td>\n",
              "      <td>125.400000</td>\n",
              "      <td>1084.000000</td>\n",
              "      <td>0.146000</td>\n",
              "      <td>0.339100</td>\n",
              "      <td>0.382900</td>\n",
              "      <td>0.161400</td>\n",
              "      <td>0.317900</td>\n",
              "      <td>0.092080</td>\n",
              "      <td>1.000000</td>\n",
              "    </tr>\n",
              "    <tr>\n",
              "      <th>max</th>\n",
              "      <td>28.110000</td>\n",
              "      <td>39.280000</td>\n",
              "      <td>188.500000</td>\n",
              "      <td>2501.000000</td>\n",
              "      <td>0.163400</td>\n",
              "      <td>0.345400</td>\n",
              "      <td>0.426800</td>\n",
              "      <td>0.201200</td>\n",
              "      <td>0.304000</td>\n",
              "      <td>0.097440</td>\n",
              "      <td>...</td>\n",
              "      <td>49.540000</td>\n",
              "      <td>251.200000</td>\n",
              "      <td>4254.000000</td>\n",
              "      <td>0.222600</td>\n",
              "      <td>1.058000</td>\n",
              "      <td>1.252000</td>\n",
              "      <td>0.291000</td>\n",
              "      <td>0.663800</td>\n",
              "      <td>0.207500</td>\n",
              "      <td>1.000000</td>\n",
              "    </tr>\n",
              "  </tbody>\n",
              "</table>\n",
              "<p>8 rows × 31 columns</p>\n",
              "</div>\n",
              "      <button class=\"colab-df-convert\" onclick=\"convertToInteractive('df-796397dd-c4e5-49b6-8038-45b72c2914cb')\"\n",
              "              title=\"Convert this dataframe to an interactive table.\"\n",
              "              style=\"display:none;\">\n",
              "        \n",
              "  <svg xmlns=\"http://www.w3.org/2000/svg\" height=\"24px\"viewBox=\"0 0 24 24\"\n",
              "       width=\"24px\">\n",
              "    <path d=\"M0 0h24v24H0V0z\" fill=\"none\"/>\n",
              "    <path d=\"M18.56 5.44l.94 2.06.94-2.06 2.06-.94-2.06-.94-.94-2.06-.94 2.06-2.06.94zm-11 1L8.5 8.5l.94-2.06 2.06-.94-2.06-.94L8.5 2.5l-.94 2.06-2.06.94zm10 10l.94 2.06.94-2.06 2.06-.94-2.06-.94-.94-2.06-.94 2.06-2.06.94z\"/><path d=\"M17.41 7.96l-1.37-1.37c-.4-.4-.92-.59-1.43-.59-.52 0-1.04.2-1.43.59L10.3 9.45l-7.72 7.72c-.78.78-.78 2.05 0 2.83L4 21.41c.39.39.9.59 1.41.59.51 0 1.02-.2 1.41-.59l7.78-7.78 2.81-2.81c.8-.78.8-2.07 0-2.86zM5.41 20L4 18.59l7.72-7.72 1.47 1.35L5.41 20z\"/>\n",
              "  </svg>\n",
              "      </button>\n",
              "      \n",
              "  <style>\n",
              "    .colab-df-container {\n",
              "      display:flex;\n",
              "      flex-wrap:wrap;\n",
              "      gap: 12px;\n",
              "    }\n",
              "\n",
              "    .colab-df-convert {\n",
              "      background-color: #E8F0FE;\n",
              "      border: none;\n",
              "      border-radius: 50%;\n",
              "      cursor: pointer;\n",
              "      display: none;\n",
              "      fill: #1967D2;\n",
              "      height: 32px;\n",
              "      padding: 0 0 0 0;\n",
              "      width: 32px;\n",
              "    }\n",
              "\n",
              "    .colab-df-convert:hover {\n",
              "      background-color: #E2EBFA;\n",
              "      box-shadow: 0px 1px 2px rgba(60, 64, 67, 0.3), 0px 1px 3px 1px rgba(60, 64, 67, 0.15);\n",
              "      fill: #174EA6;\n",
              "    }\n",
              "\n",
              "    [theme=dark] .colab-df-convert {\n",
              "      background-color: #3B4455;\n",
              "      fill: #D2E3FC;\n",
              "    }\n",
              "\n",
              "    [theme=dark] .colab-df-convert:hover {\n",
              "      background-color: #434B5C;\n",
              "      box-shadow: 0px 1px 3px 1px rgba(0, 0, 0, 0.15);\n",
              "      filter: drop-shadow(0px 1px 2px rgba(0, 0, 0, 0.3));\n",
              "      fill: #FFFFFF;\n",
              "    }\n",
              "  </style>\n",
              "\n",
              "      <script>\n",
              "        const buttonEl =\n",
              "          document.querySelector('#df-796397dd-c4e5-49b6-8038-45b72c2914cb button.colab-df-convert');\n",
              "        buttonEl.style.display =\n",
              "          google.colab.kernel.accessAllowed ? 'block' : 'none';\n",
              "\n",
              "        async function convertToInteractive(key) {\n",
              "          const element = document.querySelector('#df-796397dd-c4e5-49b6-8038-45b72c2914cb');\n",
              "          const dataTable =\n",
              "            await google.colab.kernel.invokeFunction('convertToInteractive',\n",
              "                                                     [key], {});\n",
              "          if (!dataTable) return;\n",
              "\n",
              "          const docLinkHtml = 'Like what you see? Visit the ' +\n",
              "            '<a target=\"_blank\" href=https://colab.research.google.com/notebooks/data_table.ipynb>data table notebook</a>'\n",
              "            + ' to learn more about interactive tables.';\n",
              "          element.innerHTML = '';\n",
              "          dataTable['output_type'] = 'display_data';\n",
              "          await google.colab.output.renderOutput(dataTable, element);\n",
              "          const docLink = document.createElement('div');\n",
              "          docLink.innerHTML = docLinkHtml;\n",
              "          element.appendChild(docLink);\n",
              "        }\n",
              "      </script>\n",
              "    </div>\n",
              "  </div>\n",
              "  "
            ]
          },
          "metadata": {},
          "execution_count": 62
        }
      ],
      "source": [
        "Df.describe()"
      ]
    },
    {
      "cell_type": "markdown",
      "id": "bd9f0cfd",
      "metadata": {
        "papermill": {
          "duration": 0.018858,
          "end_time": "2022-06-02T21:53:46.924136",
          "exception": false,
          "start_time": "2022-06-02T21:53:46.905278",
          "status": "completed"
        },
        "tags": [],
        "id": "bd9f0cfd"
      },
      "source": [
        "## Exploratory Data Analysis aka EDA"
      ]
    },
    {
      "cell_type": "markdown",
      "id": "61a3e260",
      "metadata": {
        "papermill": {
          "duration": 0.018432,
          "end_time": "2022-06-02T21:53:46.961770",
          "exception": false,
          "start_time": "2022-06-02T21:53:46.943338",
          "status": "completed"
        },
        "tags": [],
        "id": "61a3e260"
      },
      "source": [
        "Exploratory Data Analysis refers to the critical process of performing initial investigations on data so as to discover patterns,to spot anomalies,to test hypothesis and to check assumptions with the help of summary statistics and graphical representations."
      ]
    },
    {
      "cell_type": "code",
      "execution_count": 63,
      "id": "daa7da2c",
      "metadata": {
        "execution": {
          "iopub.execute_input": "2022-06-02T21:53:47.003288Z",
          "iopub.status.busy": "2022-06-02T21:53:47.002835Z",
          "iopub.status.idle": "2022-06-02T21:53:48.496021Z",
          "shell.execute_reply": "2022-06-02T21:53:48.494578Z"
        },
        "papermill": {
          "duration": 1.518226,
          "end_time": "2022-06-02T21:53:48.498747",
          "exception": false,
          "start_time": "2022-06-02T21:53:46.980521",
          "status": "completed"
        },
        "tags": [],
        "id": "daa7da2c",
        "outputId": "b6f1a200-3d06-4584-c983-39df3624e7e3",
        "colab": {
          "base_uri": "https://localhost:8080/",
          "height": 450
        }
      },
      "outputs": [
        {
          "output_type": "error",
          "ename": "ValueError",
          "evalue": "ignored",
          "traceback": [
            "\u001b[0;31m---------------------------------------------------------------------------\u001b[0m",
            "\u001b[0;31mValueError\u001b[0m                                Traceback (most recent call last)",
            "\u001b[0;32m<ipython-input-63-8a0b754ae8e4>\u001b[0m in \u001b[0;36m<module>\u001b[0;34m()\u001b[0m\n\u001b[1;32m      4\u001b[0m             \u001b[0mcolor\u001b[0m\u001b[0;34m=\u001b[0m\u001b[0;34m'perimeter_mean'\u001b[0m\u001b[0;34m,\u001b[0m\u001b[0;34m\u001b[0m\u001b[0;34m\u001b[0m\u001b[0m\n\u001b[1;32m      5\u001b[0m             \u001b[0mhover_data\u001b[0m\u001b[0;34m=\u001b[0m\u001b[0;34m[\u001b[0m\u001b[0;34m\"radius_mean\"\u001b[0m\u001b[0;34m]\u001b[0m\u001b[0;34m,\u001b[0m\u001b[0;34m\u001b[0m\u001b[0;34m\u001b[0m\u001b[0m\n\u001b[0;32m----> 6\u001b[0;31m             title='Radius Mean vs Diagnosis')\n\u001b[0m\u001b[1;32m      7\u001b[0m \u001b[0mfig\u001b[0m\u001b[0;34m.\u001b[0m\u001b[0mupdate_xaxes\u001b[0m\u001b[0;34m(\u001b[0m\u001b[0mshowgrid\u001b[0m\u001b[0;34m=\u001b[0m\u001b[0;32mFalse\u001b[0m\u001b[0;34m)\u001b[0m   \u001b[0;31m#Turning the grid off\u001b[0m\u001b[0;34m\u001b[0m\u001b[0;34m\u001b[0m\u001b[0m\n\u001b[1;32m      8\u001b[0m \u001b[0mfig\u001b[0m\u001b[0;34m.\u001b[0m\u001b[0mupdate_yaxes\u001b[0m\u001b[0;34m(\u001b[0m\u001b[0mshowgrid\u001b[0m\u001b[0;34m=\u001b[0m\u001b[0;32mFalse\u001b[0m\u001b[0;34m)\u001b[0m   \u001b[0;31m#Turning the grid off\u001b[0m\u001b[0;34m\u001b[0m\u001b[0;34m\u001b[0m\u001b[0m\n",
            "\u001b[0;32m/usr/local/lib/python3.7/dist-packages/plotly/express/_chart_types.py\u001b[0m in \u001b[0;36mbar\u001b[0;34m(data_frame, x, y, color, pattern_shape, facet_row, facet_col, facet_col_wrap, facet_row_spacing, facet_col_spacing, hover_name, hover_data, custom_data, text, base, error_x, error_x_minus, error_y, error_y_minus, animation_frame, animation_group, category_orders, labels, color_discrete_sequence, color_discrete_map, color_continuous_scale, pattern_shape_sequence, pattern_shape_map, range_color, color_continuous_midpoint, opacity, orientation, barmode, log_x, log_y, range_x, range_y, text_auto, title, template, width, height)\u001b[0m\n\u001b[1;32m    370\u001b[0m         \u001b[0mconstructor\u001b[0m\u001b[0;34m=\u001b[0m\u001b[0mgo\u001b[0m\u001b[0;34m.\u001b[0m\u001b[0mBar\u001b[0m\u001b[0;34m,\u001b[0m\u001b[0;34m\u001b[0m\u001b[0;34m\u001b[0m\u001b[0m\n\u001b[1;32m    371\u001b[0m         \u001b[0mtrace_patch\u001b[0m\u001b[0;34m=\u001b[0m\u001b[0mdict\u001b[0m\u001b[0;34m(\u001b[0m\u001b[0mtextposition\u001b[0m\u001b[0;34m=\u001b[0m\u001b[0;34m\"auto\"\u001b[0m\u001b[0;34m)\u001b[0m\u001b[0;34m,\u001b[0m\u001b[0;34m\u001b[0m\u001b[0;34m\u001b[0m\u001b[0m\n\u001b[0;32m--> 372\u001b[0;31m         \u001b[0mlayout_patch\u001b[0m\u001b[0;34m=\u001b[0m\u001b[0mdict\u001b[0m\u001b[0;34m(\u001b[0m\u001b[0mbarmode\u001b[0m\u001b[0;34m=\u001b[0m\u001b[0mbarmode\u001b[0m\u001b[0;34m)\u001b[0m\u001b[0;34m,\u001b[0m\u001b[0;34m\u001b[0m\u001b[0;34m\u001b[0m\u001b[0m\n\u001b[0m\u001b[1;32m    373\u001b[0m     )\n\u001b[1;32m    374\u001b[0m \u001b[0;34m\u001b[0m\u001b[0m\n",
            "\u001b[0;32m/usr/local/lib/python3.7/dist-packages/plotly/express/_core.py\u001b[0m in \u001b[0;36mmake_figure\u001b[0;34m(args, constructor, trace_patch, layout_patch)\u001b[0m\n\u001b[1;32m   1943\u001b[0m     \u001b[0mapply_default_cascade\u001b[0m\u001b[0;34m(\u001b[0m\u001b[0margs\u001b[0m\u001b[0;34m)\u001b[0m\u001b[0;34m\u001b[0m\u001b[0;34m\u001b[0m\u001b[0m\n\u001b[1;32m   1944\u001b[0m \u001b[0;34m\u001b[0m\u001b[0m\n\u001b[0;32m-> 1945\u001b[0;31m     \u001b[0margs\u001b[0m \u001b[0;34m=\u001b[0m \u001b[0mbuild_dataframe\u001b[0m\u001b[0;34m(\u001b[0m\u001b[0margs\u001b[0m\u001b[0;34m,\u001b[0m \u001b[0mconstructor\u001b[0m\u001b[0;34m)\u001b[0m\u001b[0;34m\u001b[0m\u001b[0;34m\u001b[0m\u001b[0m\n\u001b[0m\u001b[1;32m   1946\u001b[0m     \u001b[0;32mif\u001b[0m \u001b[0mconstructor\u001b[0m \u001b[0;32min\u001b[0m \u001b[0;34m[\u001b[0m\u001b[0mgo\u001b[0m\u001b[0;34m.\u001b[0m\u001b[0mTreemap\u001b[0m\u001b[0;34m,\u001b[0m \u001b[0mgo\u001b[0m\u001b[0;34m.\u001b[0m\u001b[0mSunburst\u001b[0m\u001b[0;34m,\u001b[0m \u001b[0mgo\u001b[0m\u001b[0;34m.\u001b[0m\u001b[0mIcicle\u001b[0m\u001b[0;34m]\u001b[0m \u001b[0;32mand\u001b[0m \u001b[0margs\u001b[0m\u001b[0;34m[\u001b[0m\u001b[0;34m\"path\"\u001b[0m\u001b[0;34m]\u001b[0m \u001b[0;32mis\u001b[0m \u001b[0;32mnot\u001b[0m \u001b[0;32mNone\u001b[0m\u001b[0;34m:\u001b[0m\u001b[0;34m\u001b[0m\u001b[0;34m\u001b[0m\u001b[0m\n\u001b[1;32m   1947\u001b[0m         \u001b[0margs\u001b[0m \u001b[0;34m=\u001b[0m \u001b[0mprocess_dataframe_hierarchy\u001b[0m\u001b[0;34m(\u001b[0m\u001b[0margs\u001b[0m\u001b[0;34m)\u001b[0m\u001b[0;34m\u001b[0m\u001b[0;34m\u001b[0m\u001b[0m\n",
            "\u001b[0;32m/usr/local/lib/python3.7/dist-packages/plotly/express/_core.py\u001b[0m in \u001b[0;36mbuild_dataframe\u001b[0;34m(args, constructor)\u001b[0m\n\u001b[1;32m   1404\u001b[0m \u001b[0;34m\u001b[0m\u001b[0m\n\u001b[1;32m   1405\u001b[0m     df_output, wide_id_vars = process_args_into_dataframe(\n\u001b[0;32m-> 1406\u001b[0;31m         \u001b[0margs\u001b[0m\u001b[0;34m,\u001b[0m \u001b[0mwide_mode\u001b[0m\u001b[0;34m,\u001b[0m \u001b[0mvar_name\u001b[0m\u001b[0;34m,\u001b[0m \u001b[0mvalue_name\u001b[0m\u001b[0;34m\u001b[0m\u001b[0;34m\u001b[0m\u001b[0m\n\u001b[0m\u001b[1;32m   1407\u001b[0m     )\n\u001b[1;32m   1408\u001b[0m \u001b[0;34m\u001b[0m\u001b[0m\n",
            "\u001b[0;32m/usr/local/lib/python3.7/dist-packages/plotly/express/_core.py\u001b[0m in \u001b[0;36mprocess_args_into_dataframe\u001b[0;34m(args, wide_mode, var_name, value_name)\u001b[0m\n\u001b[1;32m   1205\u001b[0m                         \u001b[0;32mif\u001b[0m \u001b[0margument\u001b[0m \u001b[0;34m==\u001b[0m \u001b[0;34m\"index\"\u001b[0m\u001b[0;34m:\u001b[0m\u001b[0;34m\u001b[0m\u001b[0;34m\u001b[0m\u001b[0m\n\u001b[1;32m   1206\u001b[0m                             \u001b[0merr_msg\u001b[0m \u001b[0;34m+=\u001b[0m \u001b[0;34m\"\\n To use the index, pass it in directly as `df.index`.\"\u001b[0m\u001b[0;34m\u001b[0m\u001b[0;34m\u001b[0m\u001b[0m\n\u001b[0;32m-> 1207\u001b[0;31m                         \u001b[0;32mraise\u001b[0m \u001b[0mValueError\u001b[0m\u001b[0;34m(\u001b[0m\u001b[0merr_msg\u001b[0m\u001b[0;34m)\u001b[0m\u001b[0;34m\u001b[0m\u001b[0;34m\u001b[0m\u001b[0m\n\u001b[0m\u001b[1;32m   1208\u001b[0m                 \u001b[0;32melif\u001b[0m \u001b[0mlength\u001b[0m \u001b[0;32mand\u001b[0m \u001b[0mlen\u001b[0m\u001b[0;34m(\u001b[0m\u001b[0mdf_input\u001b[0m\u001b[0;34m[\u001b[0m\u001b[0margument\u001b[0m\u001b[0;34m]\u001b[0m\u001b[0;34m)\u001b[0m \u001b[0;34m!=\u001b[0m \u001b[0mlength\u001b[0m\u001b[0;34m:\u001b[0m\u001b[0;34m\u001b[0m\u001b[0;34m\u001b[0m\u001b[0m\n\u001b[1;32m   1209\u001b[0m                     raise ValueError(\n",
            "\u001b[0;31mValueError\u001b[0m: Value of 'x' is not the name of a column in 'data_frame'. Expected one of ['mean_radius', 'mean_texture', 'mean_perimeter', 'mean_area', 'mean_smoothness', 'mean_compactness', 'mean_concavity', 'mean_concave_points', 'mean_symmetry', 'mean_fractal_dimension', 'radius_error', 'texture_error', 'perimeter_error', 'area_error', 'smoothness_error', 'compactness_error', 'concavity_error', 'concave_points_error', 'symmetry_error', 'fractal_dimension_error', 'worst_radius', 'worst_texture', 'worst_perimeter', 'worst_area', 'worst_smoothness', 'worst_compactness', 'worst_concavity', 'worst_concave_points', 'worst_symmetry', 'worst_fractal_dimension', 'target'] but received: diagnosis"
          ]
        }
      ],
      "source": [
        "fig = px.bar(Df, \n",
        "            x='diagnosis', \n",
        "            y='radius_mean', \n",
        "            color='perimeter_mean',\n",
        "            hover_data=[\"radius_mean\"], \n",
        "            title='Radius Mean vs Diagnosis')\n",
        "fig.update_xaxes(showgrid=False)   #Turning the grid off\n",
        "fig.update_yaxes(showgrid=False)   #Turning the grid off\n",
        "fig.update_layout({'plot_bgcolor': 'rgba(0, 0, 0, 0)','paper_bgcolor': 'rgba(0, 0, 0, 0)'})  #removing the background color\n",
        "fig.show()"
      ]
    },
    {
      "cell_type": "code",
      "execution_count": 64,
      "id": "f5027954",
      "metadata": {
        "execution": {
          "iopub.execute_input": "2022-06-02T21:53:48.541724Z",
          "iopub.status.busy": "2022-06-02T21:53:48.541003Z",
          "iopub.status.idle": "2022-06-02T21:53:48.599537Z",
          "shell.execute_reply": "2022-06-02T21:53:48.598324Z"
        },
        "papermill": {
          "duration": 0.083778,
          "end_time": "2022-06-02T21:53:48.602450",
          "exception": false,
          "start_time": "2022-06-02T21:53:48.518672",
          "status": "completed"
        },
        "tags": [],
        "id": "f5027954",
        "outputId": "51b643b0-0748-41f0-a6e3-ddbb2928ea75",
        "colab": {
          "base_uri": "https://localhost:8080/",
          "height": 450
        }
      },
      "outputs": [
        {
          "output_type": "error",
          "ename": "ValueError",
          "evalue": "ignored",
          "traceback": [
            "\u001b[0;31m---------------------------------------------------------------------------\u001b[0m",
            "\u001b[0;31mValueError\u001b[0m                                Traceback (most recent call last)",
            "\u001b[0;32m<ipython-input-64-1c2be3f80288>\u001b[0m in \u001b[0;36m<module>\u001b[0;34m()\u001b[0m\n\u001b[1;32m      6\u001b[0m                      \u001b[0mlog_x\u001b[0m\u001b[0;34m=\u001b[0m\u001b[0;32mTrue\u001b[0m\u001b[0;34m,\u001b[0m\u001b[0;34m\u001b[0m\u001b[0;34m\u001b[0m\u001b[0m\n\u001b[1;32m      7\u001b[0m                      \u001b[0mtemplate\u001b[0m\u001b[0;34m=\u001b[0m\u001b[0mtemplate\u001b[0m\u001b[0;34m,\u001b[0m\u001b[0;34m\u001b[0m\u001b[0;34m\u001b[0m\u001b[0m\n\u001b[0;32m----> 8\u001b[0;31m                      title=\"Compactness Mean Vs Diagnosis\")\n\u001b[0m\u001b[1;32m      9\u001b[0m     \u001b[0mfig\u001b[0m\u001b[0;34m.\u001b[0m\u001b[0mupdate_xaxes\u001b[0m\u001b[0;34m(\u001b[0m\u001b[0mshowgrid\u001b[0m\u001b[0;34m=\u001b[0m\u001b[0;32mFalse\u001b[0m\u001b[0;34m)\u001b[0m\u001b[0;34m\u001b[0m\u001b[0;34m\u001b[0m\u001b[0m\n\u001b[1;32m     10\u001b[0m     \u001b[0mfig\u001b[0m\u001b[0;34m.\u001b[0m\u001b[0mupdate_yaxes\u001b[0m\u001b[0;34m(\u001b[0m\u001b[0mshowgrid\u001b[0m\u001b[0;34m=\u001b[0m\u001b[0;32mFalse\u001b[0m\u001b[0;34m)\u001b[0m\u001b[0;34m\u001b[0m\u001b[0;34m\u001b[0m\u001b[0m\n",
            "\u001b[0;32m/usr/local/lib/python3.7/dist-packages/plotly/express/_chart_types.py\u001b[0m in \u001b[0;36mbar\u001b[0;34m(data_frame, x, y, color, pattern_shape, facet_row, facet_col, facet_col_wrap, facet_row_spacing, facet_col_spacing, hover_name, hover_data, custom_data, text, base, error_x, error_x_minus, error_y, error_y_minus, animation_frame, animation_group, category_orders, labels, color_discrete_sequence, color_discrete_map, color_continuous_scale, pattern_shape_sequence, pattern_shape_map, range_color, color_continuous_midpoint, opacity, orientation, barmode, log_x, log_y, range_x, range_y, text_auto, title, template, width, height)\u001b[0m\n\u001b[1;32m    370\u001b[0m         \u001b[0mconstructor\u001b[0m\u001b[0;34m=\u001b[0m\u001b[0mgo\u001b[0m\u001b[0;34m.\u001b[0m\u001b[0mBar\u001b[0m\u001b[0;34m,\u001b[0m\u001b[0;34m\u001b[0m\u001b[0;34m\u001b[0m\u001b[0m\n\u001b[1;32m    371\u001b[0m         \u001b[0mtrace_patch\u001b[0m\u001b[0;34m=\u001b[0m\u001b[0mdict\u001b[0m\u001b[0;34m(\u001b[0m\u001b[0mtextposition\u001b[0m\u001b[0;34m=\u001b[0m\u001b[0;34m\"auto\"\u001b[0m\u001b[0;34m)\u001b[0m\u001b[0;34m,\u001b[0m\u001b[0;34m\u001b[0m\u001b[0;34m\u001b[0m\u001b[0m\n\u001b[0;32m--> 372\u001b[0;31m         \u001b[0mlayout_patch\u001b[0m\u001b[0;34m=\u001b[0m\u001b[0mdict\u001b[0m\u001b[0;34m(\u001b[0m\u001b[0mbarmode\u001b[0m\u001b[0;34m=\u001b[0m\u001b[0mbarmode\u001b[0m\u001b[0;34m)\u001b[0m\u001b[0;34m,\u001b[0m\u001b[0;34m\u001b[0m\u001b[0;34m\u001b[0m\u001b[0m\n\u001b[0m\u001b[1;32m    373\u001b[0m     )\n\u001b[1;32m    374\u001b[0m \u001b[0;34m\u001b[0m\u001b[0m\n",
            "\u001b[0;32m/usr/local/lib/python3.7/dist-packages/plotly/express/_core.py\u001b[0m in \u001b[0;36mmake_figure\u001b[0;34m(args, constructor, trace_patch, layout_patch)\u001b[0m\n\u001b[1;32m   1943\u001b[0m     \u001b[0mapply_default_cascade\u001b[0m\u001b[0;34m(\u001b[0m\u001b[0margs\u001b[0m\u001b[0;34m)\u001b[0m\u001b[0;34m\u001b[0m\u001b[0;34m\u001b[0m\u001b[0m\n\u001b[1;32m   1944\u001b[0m \u001b[0;34m\u001b[0m\u001b[0m\n\u001b[0;32m-> 1945\u001b[0;31m     \u001b[0margs\u001b[0m \u001b[0;34m=\u001b[0m \u001b[0mbuild_dataframe\u001b[0m\u001b[0;34m(\u001b[0m\u001b[0margs\u001b[0m\u001b[0;34m,\u001b[0m \u001b[0mconstructor\u001b[0m\u001b[0;34m)\u001b[0m\u001b[0;34m\u001b[0m\u001b[0;34m\u001b[0m\u001b[0m\n\u001b[0m\u001b[1;32m   1946\u001b[0m     \u001b[0;32mif\u001b[0m \u001b[0mconstructor\u001b[0m \u001b[0;32min\u001b[0m \u001b[0;34m[\u001b[0m\u001b[0mgo\u001b[0m\u001b[0;34m.\u001b[0m\u001b[0mTreemap\u001b[0m\u001b[0;34m,\u001b[0m \u001b[0mgo\u001b[0m\u001b[0;34m.\u001b[0m\u001b[0mSunburst\u001b[0m\u001b[0;34m,\u001b[0m \u001b[0mgo\u001b[0m\u001b[0;34m.\u001b[0m\u001b[0mIcicle\u001b[0m\u001b[0;34m]\u001b[0m \u001b[0;32mand\u001b[0m \u001b[0margs\u001b[0m\u001b[0;34m[\u001b[0m\u001b[0;34m\"path\"\u001b[0m\u001b[0;34m]\u001b[0m \u001b[0;32mis\u001b[0m \u001b[0;32mnot\u001b[0m \u001b[0;32mNone\u001b[0m\u001b[0;34m:\u001b[0m\u001b[0;34m\u001b[0m\u001b[0;34m\u001b[0m\u001b[0m\n\u001b[1;32m   1947\u001b[0m         \u001b[0margs\u001b[0m \u001b[0;34m=\u001b[0m \u001b[0mprocess_dataframe_hierarchy\u001b[0m\u001b[0;34m(\u001b[0m\u001b[0margs\u001b[0m\u001b[0;34m)\u001b[0m\u001b[0;34m\u001b[0m\u001b[0;34m\u001b[0m\u001b[0m\n",
            "\u001b[0;32m/usr/local/lib/python3.7/dist-packages/plotly/express/_core.py\u001b[0m in \u001b[0;36mbuild_dataframe\u001b[0;34m(args, constructor)\u001b[0m\n\u001b[1;32m   1404\u001b[0m \u001b[0;34m\u001b[0m\u001b[0m\n\u001b[1;32m   1405\u001b[0m     df_output, wide_id_vars = process_args_into_dataframe(\n\u001b[0;32m-> 1406\u001b[0;31m         \u001b[0margs\u001b[0m\u001b[0;34m,\u001b[0m \u001b[0mwide_mode\u001b[0m\u001b[0;34m,\u001b[0m \u001b[0mvar_name\u001b[0m\u001b[0;34m,\u001b[0m \u001b[0mvalue_name\u001b[0m\u001b[0;34m\u001b[0m\u001b[0;34m\u001b[0m\u001b[0m\n\u001b[0m\u001b[1;32m   1407\u001b[0m     )\n\u001b[1;32m   1408\u001b[0m \u001b[0;34m\u001b[0m\u001b[0m\n",
            "\u001b[0;32m/usr/local/lib/python3.7/dist-packages/plotly/express/_core.py\u001b[0m in \u001b[0;36mprocess_args_into_dataframe\u001b[0;34m(args, wide_mode, var_name, value_name)\u001b[0m\n\u001b[1;32m   1205\u001b[0m                         \u001b[0;32mif\u001b[0m \u001b[0margument\u001b[0m \u001b[0;34m==\u001b[0m \u001b[0;34m\"index\"\u001b[0m\u001b[0;34m:\u001b[0m\u001b[0;34m\u001b[0m\u001b[0;34m\u001b[0m\u001b[0m\n\u001b[1;32m   1206\u001b[0m                             \u001b[0merr_msg\u001b[0m \u001b[0;34m+=\u001b[0m \u001b[0;34m\"\\n To use the index, pass it in directly as `df.index`.\"\u001b[0m\u001b[0;34m\u001b[0m\u001b[0;34m\u001b[0m\u001b[0m\n\u001b[0;32m-> 1207\u001b[0;31m                         \u001b[0;32mraise\u001b[0m \u001b[0mValueError\u001b[0m\u001b[0;34m(\u001b[0m\u001b[0merr_msg\u001b[0m\u001b[0;34m)\u001b[0m\u001b[0;34m\u001b[0m\u001b[0;34m\u001b[0m\u001b[0m\n\u001b[0m\u001b[1;32m   1208\u001b[0m                 \u001b[0;32melif\u001b[0m \u001b[0mlength\u001b[0m \u001b[0;32mand\u001b[0m \u001b[0mlen\u001b[0m\u001b[0;34m(\u001b[0m\u001b[0mdf_input\u001b[0m\u001b[0;34m[\u001b[0m\u001b[0margument\u001b[0m\u001b[0;34m]\u001b[0m\u001b[0;34m)\u001b[0m \u001b[0;34m!=\u001b[0m \u001b[0mlength\u001b[0m\u001b[0;34m:\u001b[0m\u001b[0;34m\u001b[0m\u001b[0;34m\u001b[0m\u001b[0m\n\u001b[1;32m   1209\u001b[0m                     raise ValueError(\n",
            "\u001b[0;31mValueError\u001b[0m: Value of 'x' is not the name of a column in 'data_frame'. Expected one of ['mean_radius', 'mean_texture', 'mean_perimeter', 'mean_area', 'mean_smoothness', 'mean_compactness', 'mean_concavity', 'mean_concave_points', 'mean_symmetry', 'mean_fractal_dimension', 'radius_error', 'texture_error', 'perimeter_error', 'area_error', 'smoothness_error', 'compactness_error', 'concavity_error', 'concave_points_error', 'symmetry_error', 'fractal_dimension_error', 'worst_radius', 'worst_texture', 'worst_perimeter', 'worst_area', 'worst_smoothness', 'worst_compactness', 'worst_concavity', 'worst_concave_points', 'worst_symmetry', 'worst_fractal_dimension', 'target'] but received: compactness_mean"
          ]
        }
      ],
      "source": [
        "for template in [\"none\"]:\n",
        "    fig = px.bar(Df,\n",
        "                     x=\"compactness_mean\", \n",
        "                     y=\"diagnosis\", \n",
        "                     color=\"compactness_mean\",\n",
        "                     log_x=True, \n",
        "                     template=template, \n",
        "                     title=\"Compactness Mean Vs Diagnosis\")\n",
        "    fig.update_xaxes(showgrid=False)\n",
        "    fig.update_yaxes(showgrid=False)\n",
        "    fig.update_layout({'plot_bgcolor': 'rgba(0, 0, 0, 0)','paper_bgcolor': 'rgba(0, 0, 0, 0)'})\n",
        "    fig.show()"
      ]
    },
    {
      "cell_type": "code",
      "execution_count": null,
      "id": "716d8c62",
      "metadata": {
        "execution": {
          "iopub.execute_input": "2022-06-02T21:53:48.644449Z",
          "iopub.status.busy": "2022-06-02T21:53:48.643588Z",
          "iopub.status.idle": "2022-06-02T21:53:48.754132Z",
          "shell.execute_reply": "2022-06-02T21:53:48.752828Z"
        },
        "papermill": {
          "duration": 0.135315,
          "end_time": "2022-06-02T21:53:48.757633",
          "exception": false,
          "start_time": "2022-06-02T21:53:48.622318",
          "status": "completed"
        },
        "tags": [],
        "id": "716d8c62"
      },
      "outputs": [],
      "source": [
        "fig = px.histogram(Df, \n",
        "                   x='diagnosis', \n",
        "                   color_discrete_sequence=['red'],\n",
        "                   title='Diagnosis Count')\n",
        "fig.update_layout(bargap=0.3)\n",
        "fig.update_xaxes(showgrid=False)\n",
        "fig.update_yaxes(showgrid=False)\n",
        "fig.update_layout({'plot_bgcolor': 'rgba(0, 0, 0, 0)','paper_bgcolor': 'rgba(0, 0, 0, 0)'})\n",
        "fig.show()"
      ]
    },
    {
      "cell_type": "code",
      "execution_count": null,
      "id": "a5b0d839",
      "metadata": {
        "execution": {
          "iopub.execute_input": "2022-06-02T21:53:48.800773Z",
          "iopub.status.busy": "2022-06-02T21:53:48.799708Z",
          "iopub.status.idle": "2022-06-02T21:53:52.928510Z",
          "shell.execute_reply": "2022-06-02T21:53:52.927431Z"
        },
        "papermill": {
          "duration": 4.162483,
          "end_time": "2022-06-02T21:53:52.940739",
          "exception": false,
          "start_time": "2022-06-02T21:53:48.778256",
          "status": "completed"
        },
        "tags": [],
        "id": "a5b0d839"
      },
      "outputs": [],
      "source": [
        "sns.heatmap(Df.corr(),annot=True,fmt=\".2g\")"
      ]
    },
    {
      "cell_type": "markdown",
      "id": "61ff44a9",
      "metadata": {
        "papermill": {
          "duration": 0.036252,
          "end_time": "2022-06-02T21:53:53.008995",
          "exception": false,
          "start_time": "2022-06-02T21:53:52.972743",
          "status": "completed"
        },
        "tags": [],
        "id": "61ff44a9"
      },
      "source": [
        "From our analysis above, we saw there are 357 Benign Cases and 212 Malignant breast cancer cases. Compactness Mean is more in the Malignant Cases as compared to the Benign Cases."
      ]
    },
    {
      "cell_type": "markdown",
      "id": "0f4c4be0",
      "metadata": {
        "papermill": {
          "duration": 0.030667,
          "end_time": "2022-06-02T21:53:53.071416",
          "exception": false,
          "start_time": "2022-06-02T21:53:53.040749",
          "status": "completed"
        },
        "tags": [],
        "id": "0f4c4be0"
      },
      "source": [
        "## Data Pre-processing\n",
        "Now, lets start processing our data and make sure its in line with the requirements of the machine learning ecosystem as we wanna make sure there is no categorical data since Machine Learning Algorithms cannot work with Categorical data.\n",
        "\n",
        "Fortunately, we don't have the categorical columns in our dataset so we are just using slicing method to make a list of columns for independent(input) and dependent variable(output)"
      ]
    },
    {
      "cell_type": "code",
      "execution_count": null,
      "id": "6477a9dd",
      "metadata": {
        "execution": {
          "iopub.execute_input": "2022-06-02T21:53:53.135609Z",
          "iopub.status.busy": "2022-06-02T21:53:53.135172Z",
          "iopub.status.idle": "2022-06-02T21:53:53.141259Z",
          "shell.execute_reply": "2022-06-02T21:53:53.140589Z"
        },
        "papermill": {
          "duration": 0.04101,
          "end_time": "2022-06-02T21:53:53.143435",
          "exception": false,
          "start_time": "2022-06-02T21:53:53.102425",
          "status": "completed"
        },
        "tags": [],
        "id": "6477a9dd"
      },
      "outputs": [],
      "source": [
        "Df.columns"
      ]
    },
    {
      "cell_type": "code",
      "execution_count": null,
      "id": "124981a1",
      "metadata": {
        "execution": {
          "iopub.execute_input": "2022-06-02T21:53:53.207150Z",
          "iopub.status.busy": "2022-06-02T21:53:53.206746Z",
          "iopub.status.idle": "2022-06-02T21:53:53.214167Z",
          "shell.execute_reply": "2022-06-02T21:53:53.212928Z"
        },
        "papermill": {
          "duration": 0.042199,
          "end_time": "2022-06-02T21:53:53.216226",
          "exception": false,
          "start_time": "2022-06-02T21:53:53.174027",
          "status": "completed"
        },
        "tags": [],
        "id": "124981a1"
      },
      "outputs": [],
      "source": [
        "input_cols = Df.columns[2:-1]\n",
        "input_cols"
      ]
    },
    {
      "cell_type": "code",
      "execution_count": null,
      "id": "87e73eaa",
      "metadata": {
        "execution": {
          "iopub.execute_input": "2022-06-02T21:53:53.281884Z",
          "iopub.status.busy": "2022-06-02T21:53:53.281174Z",
          "iopub.status.idle": "2022-06-02T21:53:53.286707Z",
          "shell.execute_reply": "2022-06-02T21:53:53.285918Z"
        },
        "papermill": {
          "duration": 0.041325,
          "end_time": "2022-06-02T21:53:53.288591",
          "exception": false,
          "start_time": "2022-06-02T21:53:53.247266",
          "status": "completed"
        },
        "tags": [],
        "id": "87e73eaa"
      },
      "outputs": [],
      "source": [
        "target_col =  Df.columns[1]\n",
        "target_col"
      ]
    },
    {
      "cell_type": "code",
      "execution_count": null,
      "id": "f103320b",
      "metadata": {
        "execution": {
          "iopub.execute_input": "2022-06-02T21:53:53.353673Z",
          "iopub.status.busy": "2022-06-02T21:53:53.352876Z",
          "iopub.status.idle": "2022-06-02T21:53:53.389929Z",
          "shell.execute_reply": "2022-06-02T21:53:53.388936Z"
        },
        "papermill": {
          "duration": 0.072565,
          "end_time": "2022-06-02T21:53:53.392205",
          "exception": false,
          "start_time": "2022-06-02T21:53:53.319640",
          "status": "completed"
        },
        "tags": [],
        "id": "f103320b"
      },
      "outputs": [],
      "source": [
        "inputs_df = Df[list(input_cols)].copy()\n",
        "inputs_df"
      ]
    },
    {
      "cell_type": "code",
      "execution_count": null,
      "id": "3d22ecfc",
      "metadata": {
        "execution": {
          "iopub.execute_input": "2022-06-02T21:53:53.458743Z",
          "iopub.status.busy": "2022-06-02T21:53:53.458229Z",
          "iopub.status.idle": "2022-06-02T21:53:53.466771Z",
          "shell.execute_reply": "2022-06-02T21:53:53.465760Z"
        },
        "papermill": {
          "duration": 0.044831,
          "end_time": "2022-06-02T21:53:53.469015",
          "exception": false,
          "start_time": "2022-06-02T21:53:53.424184",
          "status": "completed"
        },
        "tags": [],
        "id": "3d22ecfc"
      },
      "outputs": [],
      "source": [
        "targets = Df[(target_col)]\n",
        "targets"
      ]
    },
    {
      "cell_type": "markdown",
      "id": "c73fd4dd",
      "metadata": {
        "papermill": {
          "duration": 0.03296,
          "end_time": "2022-06-02T21:53:53.533549",
          "exception": false,
          "start_time": "2022-06-02T21:53:53.500589",
          "status": "completed"
        },
        "tags": [],
        "id": "c73fd4dd"
      },
      "source": [
        "### Data Scaling"
      ]
    },
    {
      "cell_type": "markdown",
      "id": "b1103e05",
      "metadata": {
        "papermill": {
          "duration": 0.03262,
          "end_time": "2022-06-02T21:53:53.619253",
          "exception": false,
          "start_time": "2022-06-02T21:53:53.586633",
          "status": "completed"
        },
        "tags": [],
        "id": "b1103e05"
      },
      "source": [
        "We want to scale the data as in the machine learning algorithms if the values of the features are closer to each other there are chances for the algorithm to get trained well and faster instead of the data set where the data points or features values have high differences with each other will take more time to understand the data and the accuracy will be lower."
      ]
    },
    {
      "cell_type": "code",
      "execution_count": null,
      "id": "7ec107db",
      "metadata": {
        "execution": {
          "iopub.execute_input": "2022-06-02T21:53:53.685992Z",
          "iopub.status.busy": "2022-06-02T21:53:53.685268Z",
          "iopub.status.idle": "2022-06-02T21:53:53.932693Z",
          "shell.execute_reply": "2022-06-02T21:53:53.931457Z"
        },
        "papermill": {
          "duration": 0.283973,
          "end_time": "2022-06-02T21:53:53.935094",
          "exception": false,
          "start_time": "2022-06-02T21:53:53.651121",
          "status": "completed"
        },
        "tags": [],
        "id": "7ec107db"
      },
      "outputs": [],
      "source": [
        "from sklearn.preprocessing import MinMaxScaler\n",
        "scaler = MinMaxScaler()\n",
        "scaler.fit(Df[input_cols])\n",
        "Df[input_cols] = scaler.transform(inputs_df[input_cols])\n",
        "inputs_df[input_cols].describe().loc[['min', 'max'],:]"
      ]
    },
    {
      "cell_type": "markdown",
      "id": "eba42ab7",
      "metadata": {
        "papermill": {
          "duration": 0.032039,
          "end_time": "2022-06-02T21:53:53.999080",
          "exception": false,
          "start_time": "2022-06-02T21:53:53.967041",
          "status": "completed"
        },
        "tags": [],
        "id": "eba42ab7"
      },
      "source": [
        "## Principal Component Analysis (PCA)\n",
        "Principal Component Analysis is a way to reduce the number of variables while maintaining the majority of the important information. It transforms a number of variables that may be correlated into a smaller number of uncorrelated variables, known as principal components.\n",
        "\n",
        "The main objective of PCA is to simplify your model features into fewer components to help visualize patterns in your data and to help your model run faster. Using PCA also reduces the chance of overfitting your model by eliminating features with high correlation."
      ]
    },
    {
      "cell_type": "code",
      "execution_count": null,
      "id": "8668fb1b",
      "metadata": {
        "papermill": {
          "duration": 0.031826,
          "end_time": "2022-06-02T21:53:54.063594",
          "exception": false,
          "start_time": "2022-06-02T21:53:54.031768",
          "status": "completed"
        },
        "tags": [],
        "id": "8668fb1b"
      },
      "outputs": [],
      "source": [
        ""
      ]
    },
    {
      "cell_type": "code",
      "execution_count": null,
      "id": "8d2bc446",
      "metadata": {
        "execution": {
          "iopub.execute_input": "2022-06-02T21:53:54.130719Z",
          "iopub.status.busy": "2022-06-02T21:53:54.130275Z",
          "iopub.status.idle": "2022-06-02T21:53:54.380956Z",
          "shell.execute_reply": "2022-06-02T21:53:54.379723Z"
        },
        "papermill": {
          "duration": 0.288535,
          "end_time": "2022-06-02T21:53:54.384367",
          "exception": false,
          "start_time": "2022-06-02T21:53:54.095832",
          "status": "completed"
        },
        "tags": [],
        "id": "8d2bc446"
      },
      "outputs": [],
      "source": [
        "from sklearn.preprocessing import scale\n",
        "from sklearn import decomposition\n",
        "X = scale(inputs_df)\n",
        "pca = decomposition.PCA(n_components=10)\n",
        "pca.fit(X)"
      ]
    },
    {
      "cell_type": "code",
      "execution_count": null,
      "id": "c8bf465b",
      "metadata": {
        "execution": {
          "iopub.execute_input": "2022-06-02T21:53:54.524244Z",
          "iopub.status.busy": "2022-06-02T21:53:54.523844Z",
          "iopub.status.idle": "2022-06-02T21:53:54.542245Z",
          "shell.execute_reply": "2022-06-02T21:53:54.541296Z"
        },
        "papermill": {
          "duration": 0.053807,
          "end_time": "2022-06-02T21:53:54.544452",
          "exception": false,
          "start_time": "2022-06-02T21:53:54.490645",
          "status": "completed"
        },
        "tags": [],
        "id": "c8bf465b"
      },
      "outputs": [],
      "source": [
        "scores = pca.transform(X)\n",
        "cols=[f'PCA{i+1}' for i in range(10)]\n",
        "scores_df = pd.DataFrame(scores, columns=cols)\n",
        "scores_df.head()"
      ]
    },
    {
      "cell_type": "code",
      "execution_count": null,
      "id": "b85a548b",
      "metadata": {
        "execution": {
          "iopub.execute_input": "2022-06-02T21:53:54.612641Z",
          "iopub.status.busy": "2022-06-02T21:53:54.611455Z",
          "iopub.status.idle": "2022-06-02T21:53:55.521467Z",
          "shell.execute_reply": "2022-06-02T21:53:55.520527Z"
        },
        "papermill": {
          "duration": 0.94612,
          "end_time": "2022-06-02T21:53:55.523575",
          "exception": false,
          "start_time": "2022-06-02T21:53:54.577455",
          "status": "completed"
        },
        "tags": [],
        "id": "b85a548b"
      },
      "outputs": [],
      "source": [
        "sns.heatmap(scores_df.corr(),annot=True,fmt=\".2g\")"
      ]
    },
    {
      "cell_type": "code",
      "execution_count": null,
      "id": "581973e6",
      "metadata": {
        "execution": {
          "iopub.execute_input": "2022-06-02T21:53:55.598621Z",
          "iopub.status.busy": "2022-06-02T21:53:55.597822Z",
          "iopub.status.idle": "2022-06-02T21:53:55.605956Z",
          "shell.execute_reply": "2022-06-02T21:53:55.604978Z"
        },
        "papermill": {
          "duration": 0.047191,
          "end_time": "2022-06-02T21:53:55.608074",
          "exception": false,
          "start_time": "2022-06-02T21:53:55.560883",
          "status": "completed"
        },
        "tags": [],
        "id": "581973e6"
      },
      "outputs": [],
      "source": [
        "target = pd.Series(targets, name='target')\n",
        "target"
      ]
    },
    {
      "cell_type": "code",
      "execution_count": null,
      "id": "4fbe0239",
      "metadata": {
        "execution": {
          "iopub.execute_input": "2022-06-02T21:53:55.678952Z",
          "iopub.status.busy": "2022-06-02T21:53:55.678449Z",
          "iopub.status.idle": "2022-06-02T21:53:55.697157Z",
          "shell.execute_reply": "2022-06-02T21:53:55.696175Z"
        },
        "papermill": {
          "duration": 0.056892,
          "end_time": "2022-06-02T21:53:55.699418",
          "exception": false,
          "start_time": "2022-06-02T21:53:55.642526",
          "status": "completed"
        },
        "tags": [],
        "id": "4fbe0239"
      },
      "outputs": [],
      "source": [
        "result_df = pd.concat([scores_df, target], axis=1)\n",
        "result_df.head()"
      ]
    },
    {
      "cell_type": "code",
      "execution_count": null,
      "id": "851bbdd6",
      "metadata": {
        "execution": {
          "iopub.execute_input": "2022-06-02T21:53:55.772466Z",
          "iopub.status.busy": "2022-06-02T21:53:55.771814Z",
          "iopub.status.idle": "2022-06-02T21:53:55.779203Z",
          "shell.execute_reply": "2022-06-02T21:53:55.778515Z"
        },
        "papermill": {
          "duration": 0.047212,
          "end_time": "2022-06-02T21:53:55.781252",
          "exception": false,
          "start_time": "2022-06-02T21:53:55.734040",
          "status": "completed"
        },
        "tags": [],
        "id": "851bbdd6"
      },
      "outputs": [],
      "source": [
        "type(scores),scores.shape,scores_df.dtypes,scores_df.shape"
      ]
    },
    {
      "cell_type": "code",
      "execution_count": null,
      "id": "95c6e13b",
      "metadata": {
        "execution": {
          "iopub.execute_input": "2022-06-02T21:53:55.854393Z",
          "iopub.status.busy": "2022-06-02T21:53:55.853832Z",
          "iopub.status.idle": "2022-06-02T21:53:56.407735Z",
          "shell.execute_reply": "2022-06-02T21:53:56.406632Z"
        },
        "papermill": {
          "duration": 0.594615,
          "end_time": "2022-06-02T21:53:56.411219",
          "exception": false,
          "start_time": "2022-06-02T21:53:55.816604",
          "status": "completed"
        },
        "tags": [],
        "id": "95c6e13b"
      },
      "outputs": [],
      "source": [
        "sns.scatterplot(data=result_df, x=\"PCA1\", y=\"PCA2\",size=\"PCA3\",style=\"target\", hue=\"PCA4\");"
      ]
    },
    {
      "cell_type": "markdown",
      "id": "0785986c",
      "metadata": {
        "papermill": {
          "duration": 0.036766,
          "end_time": "2022-06-02T21:53:56.489157",
          "exception": false,
          "start_time": "2022-06-02T21:53:56.452391",
          "status": "completed"
        },
        "tags": [],
        "id": "0785986c"
      },
      "source": [
        "### Explained Variance Ratio\n",
        "\n",
        "The explained variance ratio is the percentage of variance that is attributed by each of the selected components. Ideally, you would choose the number of components to include in your model by adding the explained variance ratio of each component until you reach a total of around 0.8 or 80% to avoid overfitting."
      ]
    },
    {
      "cell_type": "code",
      "execution_count": null,
      "id": "4928407d",
      "metadata": {
        "execution": {
          "iopub.execute_input": "2022-06-02T21:53:56.563926Z",
          "iopub.status.busy": "2022-06-02T21:53:56.563293Z",
          "iopub.status.idle": "2022-06-02T21:53:56.569902Z",
          "shell.execute_reply": "2022-06-02T21:53:56.568761Z"
        },
        "papermill": {
          "duration": 0.047293,
          "end_time": "2022-06-02T21:53:56.572879",
          "exception": false,
          "start_time": "2022-06-02T21:53:56.525586",
          "status": "completed"
        },
        "tags": [],
        "id": "4928407d"
      },
      "outputs": [],
      "source": [
        "print('Variance of each component:', pca.explained_variance_ratio_)\n",
        "print('\\n Total Variance Explained:', round(sum(list(pca.explained_variance_ratio_))*100, 2))"
      ]
    },
    {
      "cell_type": "markdown",
      "id": "85d79580",
      "metadata": {
        "papermill": {
          "duration": 0.036607,
          "end_time": "2022-06-02T21:53:56.648380",
          "exception": false,
          "start_time": "2022-06-02T21:53:56.611773",
          "status": "completed"
        },
        "tags": [],
        "id": "85d79580"
      },
      "source": [
        "We can see that our first 10 principal components explain the majority of the variance in this dataset (95.3%)! This is an indication of the total information represented compared to the original data."
      ]
    },
    {
      "cell_type": "markdown",
      "id": "7ec3e269",
      "metadata": {
        "papermill": {
          "duration": 0.036538,
          "end_time": "2022-06-02T21:53:56.721326",
          "exception": false,
          "start_time": "2022-06-02T21:53:56.684788",
          "status": "completed"
        },
        "tags": [],
        "id": "7ec3e269"
      },
      "source": [
        "## Splitting Data\n",
        "We start the process of training our data now that we are done with preprocessing of the data. Lets go ahead and split the data into 2 splits i.e. training and validation data. Training data will be used to train our model and we will validate the score on the validation data.\n",
        "\n",
        "We have taken the test size as 0.25 since we don't want to train our model on the entire dataset and then end up having the model learn nothing when new set of data is thrown at it."
      ]
    },
    {
      "cell_type": "code",
      "execution_count": null,
      "id": "6bb41f99",
      "metadata": {
        "execution": {
          "iopub.execute_input": "2022-06-02T21:53:56.797434Z",
          "iopub.status.busy": "2022-06-02T21:53:56.796855Z",
          "iopub.status.idle": "2022-06-02T21:53:56.803717Z",
          "shell.execute_reply": "2022-06-02T21:53:56.802914Z"
        },
        "papermill": {
          "duration": 0.048005,
          "end_time": "2022-06-02T21:53:56.805804",
          "exception": false,
          "start_time": "2022-06-02T21:53:56.757799",
          "status": "completed"
        },
        "tags": [],
        "id": "6bb41f99"
      },
      "outputs": [],
      "source": [
        "from sklearn.model_selection import train_test_split\n",
        "X_train,x_test, y_train , y_test = train_test_split(scores, \n",
        "                                                                        targets, \n",
        "                                                                        test_size=0.25, \n",
        "                                                                        random_state=42)"
      ]
    },
    {
      "cell_type": "code",
      "execution_count": null,
      "id": "ae1dda0e",
      "metadata": {
        "execution": {
          "iopub.execute_input": "2022-06-02T21:53:56.881498Z",
          "iopub.status.busy": "2022-06-02T21:53:56.880869Z",
          "iopub.status.idle": "2022-06-02T21:53:56.888327Z",
          "shell.execute_reply": "2022-06-02T21:53:56.887353Z"
        },
        "papermill": {
          "duration": 0.048103,
          "end_time": "2022-06-02T21:53:56.890446",
          "exception": false,
          "start_time": "2022-06-02T21:53:56.842343",
          "status": "completed"
        },
        "tags": [],
        "id": "ae1dda0e"
      },
      "outputs": [],
      "source": [
        "X_train.shape, y_train.shape, x_test.shape, y_test.shape"
      ]
    },
    {
      "cell_type": "markdown",
      "id": "4601d3a2",
      "metadata": {
        "papermill": {
          "duration": 0.036502,
          "end_time": "2022-06-02T21:53:56.964370",
          "exception": false,
          "start_time": "2022-06-02T21:53:56.927868",
          "status": "completed"
        },
        "tags": [],
        "id": "4601d3a2"
      },
      "source": [
        "## Training Models to find the best one"
      ]
    },
    {
      "cell_type": "code",
      "execution_count": null,
      "id": "f7d0e9de",
      "metadata": {
        "execution": {
          "iopub.execute_input": "2022-06-02T21:53:57.040727Z",
          "iopub.status.busy": "2022-06-02T21:53:57.039729Z",
          "iopub.status.idle": "2022-06-02T21:53:57.182385Z",
          "shell.execute_reply": "2022-06-02T21:53:57.181175Z"
        },
        "papermill": {
          "duration": 0.183833,
          "end_time": "2022-06-02T21:53:57.185041",
          "exception": false,
          "start_time": "2022-06-02T21:53:57.001208",
          "status": "completed"
        },
        "tags": [],
        "id": "f7d0e9de"
      },
      "outputs": [],
      "source": [
        "from sklearn.neighbors import KNeighborsClassifier\n",
        "from sklearn.svm import SVC\n",
        "from sklearn.ensemble import GradientBoostingClassifier\n",
        "from sklearn.tree import DecisionTreeClassifier\n",
        "from sklearn.ensemble import RandomForestClassifier\n",
        "from sklearn.linear_model import LogisticRegression"
      ]
    },
    {
      "cell_type": "code",
      "execution_count": null,
      "id": "4ac4dafa",
      "metadata": {
        "execution": {
          "iopub.execute_input": "2022-06-02T21:53:57.260872Z",
          "iopub.status.busy": "2022-06-02T21:53:57.260345Z",
          "iopub.status.idle": "2022-06-02T21:53:57.264874Z",
          "shell.execute_reply": "2022-06-02T21:53:57.264166Z"
        },
        "papermill": {
          "duration": 0.04504,
          "end_time": "2022-06-02T21:53:57.266684",
          "exception": false,
          "start_time": "2022-06-02T21:53:57.221644",
          "status": "completed"
        },
        "tags": [],
        "id": "4ac4dafa"
      },
      "outputs": [],
      "source": [
        "from sklearn.metrics import accuracy_score,adjusted_rand_score,auc,plot_roc_curve,f1_score,roc_auc_score,roc_curve"
      ]
    },
    {
      "cell_type": "code",
      "execution_count": null,
      "id": "dcc8381e",
      "metadata": {
        "execution": {
          "iopub.execute_input": "2022-06-02T21:53:57.342959Z",
          "iopub.status.busy": "2022-06-02T21:53:57.342409Z",
          "iopub.status.idle": "2022-06-02T21:53:57.348205Z",
          "shell.execute_reply": "2022-06-02T21:53:57.347519Z"
        },
        "papermill": {
          "duration": 0.046734,
          "end_time": "2022-06-02T21:53:57.350379",
          "exception": false,
          "start_time": "2022-06-02T21:53:57.303645",
          "status": "completed"
        },
        "tags": [],
        "id": "dcc8381e"
      },
      "outputs": [],
      "source": [
        "names = ['LR', \"KNN\", \"SVM\",\"GBoost\", \"DT\", \"RF\"]\n",
        "classifiers = [\n",
        "    LogisticRegression(solver='liblinear'),\n",
        "    KNeighborsClassifier(n_neighbors=5),\n",
        "    SVC(kernel=\"linear\", C=0.025),\n",
        "    GradientBoostingClassifier(n_estimators=100),\n",
        "    DecisionTreeClassifier(max_depth=5),\n",
        "    RandomForestClassifier(max_depth=5, n_estimators=100)]"
      ]
    },
    {
      "cell_type": "code",
      "execution_count": null,
      "id": "30bb9da6",
      "metadata": {
        "execution": {
          "iopub.execute_input": "2022-06-02T21:53:57.428654Z",
          "iopub.status.busy": "2022-06-02T21:53:57.428239Z",
          "iopub.status.idle": "2022-06-02T21:53:57.886863Z",
          "shell.execute_reply": "2022-06-02T21:53:57.886120Z"
        },
        "papermill": {
          "duration": 0.500789,
          "end_time": "2022-06-02T21:53:57.889237",
          "exception": false,
          "start_time": "2022-06-02T21:53:57.388448",
          "status": "completed"
        },
        "tags": [],
        "id": "30bb9da6"
      },
      "outputs": [],
      "source": [
        "scores = []\n",
        "accurancy=[]\n",
        "for name, clf in zip(names, classifiers):\n",
        "    clf.fit(X_train,y_train)\n",
        "    y_pred=clf.predict(x_test)\n",
        "    score = clf.score(x_test, y_test)\n",
        "    accurance=accuracy_score(y_test,y_pred)\n",
        "    scores.append(score)\n",
        "    accurancy.append(accurance)"
      ]
    },
    {
      "cell_type": "code",
      "execution_count": null,
      "id": "bdde86a6",
      "metadata": {
        "execution": {
          "iopub.execute_input": "2022-06-02T21:53:57.968573Z",
          "iopub.status.busy": "2022-06-02T21:53:57.968113Z",
          "iopub.status.idle": "2022-06-02T21:53:57.985920Z",
          "shell.execute_reply": "2022-06-02T21:53:57.984860Z"
        },
        "papermill": {
          "duration": 0.06195,
          "end_time": "2022-06-02T21:53:57.988003",
          "exception": false,
          "start_time": "2022-06-02T21:53:57.926053",
          "status": "completed"
        },
        "tags": [],
        "id": "bdde86a6"
      },
      "outputs": [],
      "source": [
        "scores_df = pd.DataFrame()\n",
        "scores_df['name'] = names\n",
        "scores_df['score'] = scores\n",
        "scores_df[\"accurance\"]=accurancy\n",
        "scores_df.sort_values('score', ascending= False)"
      ]
    },
    {
      "cell_type": "code",
      "execution_count": null,
      "id": "f5859b1c",
      "metadata": {
        "execution": {
          "iopub.execute_input": "2022-06-02T21:53:58.064123Z",
          "iopub.status.busy": "2022-06-02T21:53:58.063303Z",
          "iopub.status.idle": "2022-06-02T21:53:58.540850Z",
          "shell.execute_reply": "2022-06-02T21:53:58.539857Z"
        },
        "papermill": {
          "duration": 0.518611,
          "end_time": "2022-06-02T21:53:58.543794",
          "exception": false,
          "start_time": "2022-06-02T21:53:58.025183",
          "status": "completed"
        },
        "tags": [],
        "id": "f5859b1c"
      },
      "outputs": [],
      "source": [
        "plot_roc_curve(classifiers[0],X_train,y_train)\n",
        "plot_roc_curve(classifiers[1],X_train,y_train)"
      ]
    },
    {
      "cell_type": "markdown",
      "id": "7040f557",
      "metadata": {
        "papermill": {
          "duration": 0.098242,
          "end_time": "2022-06-02T21:53:58.682120",
          "exception": false,
          "start_time": "2022-06-02T21:53:58.583878",
          "status": "completed"
        },
        "tags": [],
        "id": "7040f557"
      },
      "source": [
        "We would NOT be picking the Gradient Boosting and Decision Tree since the test/validation score is less than 96%. Let's go ahead and tune some Hyperparameters."
      ]
    },
    {
      "cell_type": "markdown",
      "id": "dff974fd",
      "metadata": {
        "papermill": {
          "duration": 0.038003,
          "end_time": "2022-06-02T21:53:58.758401",
          "exception": false,
          "start_time": "2022-06-02T21:53:58.720398",
          "status": "completed"
        },
        "tags": [],
        "id": "dff974fd"
      },
      "source": [
        "## Hyperparameter Tuning for all the models"
      ]
    },
    {
      "cell_type": "markdown",
      "id": "1f41dc43",
      "metadata": {
        "papermill": {
          "duration": 0.037654,
          "end_time": "2022-06-02T21:53:58.833879",
          "exception": false,
          "start_time": "2022-06-02T21:53:58.796225",
          "status": "completed"
        },
        "tags": [],
        "id": "1f41dc43"
      },
      "source": [
        "When creating a machine learning model, you'll be presented with design choices as to how to define your model architecture. Often times, we don't immediately know what the optimal model architecture should be for a given model, and thus we'd like to be able to explore a range of possibilities. \n",
        "\n",
        "In true machine learning fashion, we'll ideally ask the machine to perform this exploration and select the optimal model architecture automatically. Parameters which define the model architecture are referred to as hyperparameters and thus this process of searching for the ideal model architecture is referred to as hyperparameter tuning which is what he have done using `GridSearchCV` and `RandomizedSearchCV`."
      ]
    },
    {
      "cell_type": "code",
      "execution_count": null,
      "id": "e555a531",
      "metadata": {
        "execution": {
          "iopub.execute_input": "2022-06-02T21:53:58.911853Z",
          "iopub.status.busy": "2022-06-02T21:53:58.911457Z",
          "iopub.status.idle": "2022-06-02T21:53:58.915573Z",
          "shell.execute_reply": "2022-06-02T21:53:58.914667Z"
        },
        "papermill": {
          "duration": 0.045204,
          "end_time": "2022-06-02T21:53:58.917622",
          "exception": false,
          "start_time": "2022-06-02T21:53:58.872418",
          "status": "completed"
        },
        "tags": [],
        "id": "e555a531"
      },
      "outputs": [],
      "source": [
        "#?np.arange"
      ]
    },
    {
      "cell_type": "code",
      "execution_count": null,
      "id": "6053325a",
      "metadata": {
        "execution": {
          "iopub.execute_input": "2022-06-02T21:53:58.997701Z",
          "iopub.status.busy": "2022-06-02T21:53:58.996856Z",
          "iopub.status.idle": "2022-06-02T21:53:59.001446Z",
          "shell.execute_reply": "2022-06-02T21:53:59.000361Z"
        },
        "papermill": {
          "duration": 0.047062,
          "end_time": "2022-06-02T21:53:59.003710",
          "exception": false,
          "start_time": "2022-06-02T21:53:58.956648",
          "status": "completed"
        },
        "tags": [],
        "id": "6053325a"
      },
      "outputs": [],
      "source": [
        "#?LogisticRegression"
      ]
    },
    {
      "cell_type": "markdown",
      "id": "a6d9244b",
      "metadata": {
        "papermill": {
          "duration": 0.037419,
          "end_time": "2022-06-02T21:53:59.080238",
          "exception": false,
          "start_time": "2022-06-02T21:53:59.042819",
          "status": "completed"
        },
        "tags": [],
        "id": "a6d9244b"
      },
      "source": [
        "## GridSearch Hyperparameter Tunnig"
      ]
    },
    {
      "cell_type": "code",
      "execution_count": null,
      "id": "35c867ea",
      "metadata": {
        "execution": {
          "iopub.execute_input": "2022-06-02T21:53:59.159127Z",
          "iopub.status.busy": "2022-06-02T21:53:59.158735Z",
          "iopub.status.idle": "2022-06-02T21:54:38.718107Z",
          "shell.execute_reply": "2022-06-02T21:54:38.717079Z"
        },
        "papermill": {
          "duration": 39.640236,
          "end_time": "2022-06-02T21:54:38.758876",
          "exception": false,
          "start_time": "2022-06-02T21:53:59.118640",
          "status": "completed"
        },
        "tags": [],
        "id": "35c867ea"
      },
      "outputs": [],
      "source": [
        "from sklearn.model_selection import GridSearchCV\n",
        "C_range = np.arange(1,10,2)\n",
        "penalty = ['l1', 'l2', 'elasticnet']\n",
        "max_iter_range = np.arange(50,500,20)\n",
        "solver=['newton-cg', 'lbfgs', 'liblinear']\n",
        "param_grid = dict(C=C_range, penalty=penalty,solver=solver, max_iter= max_iter_range)\n",
        "model = LogisticRegression()\n",
        "\n",
        "grid = GridSearchCV(estimator=model, param_grid=param_grid, cv=10)\n",
        "grid.fit(X_train, y_train )\n",
        "print(\"The best parameters are %s with a score of %0.2f\" % (grid.best_params_, grid.best_score_))"
      ]
    },
    {
      "cell_type": "code",
      "execution_count": null,
      "id": "216f61c4",
      "metadata": {
        "execution": {
          "iopub.execute_input": "2022-06-02T21:54:38.839073Z",
          "iopub.status.busy": "2022-06-02T21:54:38.838244Z",
          "iopub.status.idle": "2022-06-02T21:54:43.721335Z",
          "shell.execute_reply": "2022-06-02T21:54:43.719806Z"
        },
        "papermill": {
          "duration": 4.925349,
          "end_time": "2022-06-02T21:54:43.723819",
          "exception": false,
          "start_time": "2022-06-02T21:54:38.798470",
          "status": "completed"
        },
        "tags": [],
        "id": "216f61c4"
      },
      "outputs": [],
      "source": [
        "neighbors_range = np.arange(1,7,1)\n",
        "leaf_size_range = np.arange(10,40,10)\n",
        "param_grid = dict(n_neighbors=neighbors_range, leaf_size=leaf_size_range)\n",
        "model = KNeighborsClassifier(n_jobs=-1)\n",
        "grid = GridSearchCV(estimator=model, param_grid=param_grid, cv=10)\n",
        "grid.fit(X_train, y_train )\n",
        "print(\"The best parameters are %s with a score of %0.2f\"\n",
        "      % (grid.best_params_, grid.best_score_))"
      ]
    },
    {
      "cell_type": "code",
      "execution_count": null,
      "id": "5174d1a4",
      "metadata": {
        "execution": {
          "iopub.execute_input": "2022-06-02T21:54:43.804570Z",
          "iopub.status.busy": "2022-06-02T21:54:43.803407Z",
          "iopub.status.idle": "2022-06-02T21:54:45.568492Z",
          "shell.execute_reply": "2022-06-02T21:54:45.567271Z"
        },
        "papermill": {
          "duration": 1.808306,
          "end_time": "2022-06-02T21:54:45.570902",
          "exception": false,
          "start_time": "2022-06-02T21:54:43.762596",
          "status": "completed"
        },
        "tags": [],
        "id": "5174d1a4"
      },
      "outputs": [],
      "source": [
        "Kernel_range = ['linear','rbf']\n",
        "C_range = np.arange(1,15,1)\n",
        "param_grid = dict(kernel=Kernel_range, C= C_range)\n",
        "model = SVC()\n",
        "grid = GridSearchCV(estimator=model, param_grid=param_grid, cv=10)\n",
        "grid.fit(X_train, y_train )\n",
        "print(\"The best parameters are %s with a score of %0.2f\"\n",
        "      % (grid.best_params_, grid.best_score_))"
      ]
    },
    {
      "cell_type": "markdown",
      "id": "2779c780",
      "metadata": {
        "papermill": {
          "duration": 0.038745,
          "end_time": "2022-06-02T21:54:45.648081",
          "exception": false,
          "start_time": "2022-06-02T21:54:45.609336",
          "status": "completed"
        },
        "tags": [],
        "id": "2779c780"
      },
      "source": [
        "## Randomized Search Cv Hyperparameter Tunnig"
      ]
    },
    {
      "cell_type": "code",
      "execution_count": null,
      "id": "c65046b3",
      "metadata": {
        "execution": {
          "iopub.execute_input": "2022-06-02T21:54:45.727369Z",
          "iopub.status.busy": "2022-06-02T21:54:45.726959Z",
          "iopub.status.idle": "2022-06-02T21:54:45.972305Z",
          "shell.execute_reply": "2022-06-02T21:54:45.971177Z"
        },
        "papermill": {
          "duration": 0.289049,
          "end_time": "2022-06-02T21:54:45.975712",
          "exception": true,
          "start_time": "2022-06-02T21:54:45.686663",
          "status": "failed"
        },
        "tags": [],
        "id": "c65046b3"
      },
      "outputs": [],
      "source": [
        "max_depth_range = np.arange(1,8,1)\n",
        "max_features_range= np.arange(1,6,1)\n",
        "max_leaf_nodes_range = np.arange(2,100,10)\n",
        "from sklearn.model_selection import RandomizedSearchCV\n",
        "distributions = dict(max_depth=max_depth_range, max_features=max_features_range, max_leaf_nodes=max_leaf_nodes_range)\n",
        "model = RandomForestClassifier(n_jobs=-1, random_state=42)\n",
        "clf = RandomizedSearchCV(model, distributions, random_state=42)\n",
        "clf.fit(train_inputs, train_targets)\n",
        "print(\"The best parameters are %s with a score of %0.2f\"\n",
        "      % (clf.best_params_, clf.best_score_))"
      ]
    },
    {
      "cell_type": "markdown",
      "id": "f87038b5",
      "metadata": {
        "papermill": {
          "duration": null,
          "end_time": null,
          "exception": null,
          "start_time": null,
          "status": "pending"
        },
        "tags": [],
        "id": "f87038b5"
      },
      "source": [
        "Now that we are done tuning all our models, let's put those numbers in as is and see what is the best model that we have for this dataset."
      ]
    },
    {
      "cell_type": "code",
      "execution_count": null,
      "id": "10393b01",
      "metadata": {
        "execution": {
          "iopub.status.busy": "2022-06-02T19:07:36.227933Z",
          "iopub.status.idle": "2022-06-02T19:07:36.228367Z",
          "shell.execute_reply": "2022-06-02T19:07:36.228188Z",
          "shell.execute_reply.started": "2022-06-02T19:07:36.228166Z"
        },
        "papermill": {
          "duration": null,
          "end_time": null,
          "exception": null,
          "start_time": null,
          "status": "pending"
        },
        "tags": [],
        "id": "10393b01"
      },
      "outputs": [],
      "source": [
        "names = ['LogisticRegression', \"Nearest_Neighbors\", \"Linear_SVM\", \"Random_Forest\"]\n",
        "classifiers = [\n",
        "    LogisticRegression(C=2,max_iter=100, penalty='l2',solver='liblinear'),\n",
        "    KNeighborsClassifier(leaf_size=10, n_neighbors=5),\n",
        "    SVC(kernel=\"linear\", C=4),\n",
        "    RandomForestClassifier(max_leaf_nodes=82,max_features=4, max_depth=5)]"
      ]
    },
    {
      "cell_type": "code",
      "execution_count": null,
      "id": "2491667b",
      "metadata": {
        "execution": {
          "iopub.status.busy": "2022-06-02T19:07:36.229769Z",
          "iopub.status.idle": "2022-06-02T19:07:36.230195Z",
          "shell.execute_reply": "2022-06-02T19:07:36.230030Z",
          "shell.execute_reply.started": "2022-06-02T19:07:36.230008Z"
        },
        "papermill": {
          "duration": null,
          "end_time": null,
          "exception": null,
          "start_time": null,
          "status": "pending"
        },
        "tags": [],
        "id": "2491667b"
      },
      "outputs": [],
      "source": [
        "scores = []\n",
        "for name, clf in zip(names, classifiers):\n",
        "    clf.fit(X_train,y_train)\n",
        "    score = clf.score(x_test, y_test)\n",
        "    scores.append(score)"
      ]
    },
    {
      "cell_type": "code",
      "execution_count": null,
      "id": "36fd2ae9",
      "metadata": {
        "execution": {
          "iopub.status.busy": "2022-06-02T19:07:36.231745Z",
          "iopub.status.idle": "2022-06-02T19:07:36.232118Z",
          "shell.execute_reply": "2022-06-02T19:07:36.231959Z",
          "shell.execute_reply.started": "2022-06-02T19:07:36.231942Z"
        },
        "papermill": {
          "duration": null,
          "end_time": null,
          "exception": null,
          "start_time": null,
          "status": "pending"
        },
        "tags": [],
        "id": "36fd2ae9"
      },
      "outputs": [],
      "source": [
        "scores_df = pd.DataFrame()\n",
        "scores_df['name'] = names\n",
        "scores_df['score'] = scores\n",
        "scores_df.sort_values('score', ascending= False)"
      ]
    },
    {
      "cell_type": "markdown",
      "id": "377f189f",
      "metadata": {
        "papermill": {
          "duration": null,
          "end_time": null,
          "exception": null,
          "start_time": null,
          "status": "pending"
        },
        "tags": [],
        "id": "377f189f"
      },
      "source": [
        "We can clearly see that **Logistic Regression** and **SVM** has given us the best accuracy score.\n",
        "\n",
        "**SUMMARY OF THE NOTEBOOK:-**\n",
        "\n",
        "1. 357 Benign Cases and 212 Malignant breast cancer cases. Compactness Mean is more in the Malignant Cases as compared to the Benign Cases.\n",
        "2. Depending upon the data and the computational power, one should use GridSearch or RandomizedSearch for hyperparameter tuning\n",
        "3. PCA is a great way to shift from high dimensionality to low dimensionality. If we have more features than observations than we run the risk of massively overfitting our model — this would generally result in terrible out of sample performance.\n",
        "4. Relying on complex algorithms always should not be the way out. Sometimes, even a simpler algorithms can work wonders.\n",
        "\n",
        "**Resources**\n",
        " https://scikit-learn.org/stable/modules/svm.html\n",
        "- https://scikit-learn.org/stable/modules/generated/sklearn.model_selection.GridSearchCV.html\n",
        "- https://scikit-learn.org/stable/modules/generated/sklearn.ensemble.RandomForestClassifier.html\n",
        "\n",
        "I HOPE This NOTEBOOK HELPED YOU IN SOME WAY. THANKS FOR UPVOTE"
      ]
    }
  ],
  "metadata": {
    "kernelspec": {
      "display_name": "Python 3",
      "language": "python",
      "name": "python3"
    },
    "language_info": {
      "codemirror_mode": {
        "name": "ipython",
        "version": 3
      },
      "file_extension": ".py",
      "mimetype": "text/x-python",
      "name": "python",
      "nbconvert_exporter": "python",
      "pygments_lexer": "ipython3",
      "version": "3.7.12"
    },
    "papermill": {
      "default_parameters": {},
      "duration": 76.997502,
      "end_time": "2022-06-02T21:54:48.645249",
      "environment_variables": {},
      "exception": true,
      "input_path": "__notebook__.ipynb",
      "output_path": "__notebook__.ipynb",
      "parameters": {},
      "start_time": "2022-06-02T21:53:31.647747",
      "version": "2.3.4"
    },
    "colab": {
      "name": "breast-cancer-eda-pca-svm-lr-rf-dt-gb-gridsearch.ipynb",
      "provenance": [],
      "include_colab_link": true
    }
  },
  "nbformat": 4,
  "nbformat_minor": 5
}